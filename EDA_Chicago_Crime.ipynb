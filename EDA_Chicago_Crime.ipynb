{
 "cells": [
  {
   "cell_type": "markdown",
   "id": "f4446d05",
   "metadata": {},
   "source": [
    "# CASE STUDY ON CHICAGO CRIME DATA"
   ]
  },
  {
   "cell_type": "markdown",
   "id": "b1e05245",
   "metadata": {},
   "source": [
    "###### This study aims to answer the following questions"
   ]
  },
  {
   "cell_type": "markdown",
   "id": "7a81be08",
   "metadata": {},
   "source": [
    "* Months with the highest number of crime\n",
    "* Find the Most Common Crimes by Location Type by Month in 2016\n",
    "* Determine the Arrests by District by Year\n",
    "* Find the crimes committed on 001XX N STATE ST but not 0000X W TERMINAL ST. \n",
    "* What time of the day do crimes mostly occur\n",
    "* what day of the week do crimes mostly occur\n",
    "* Is there a trend on street crimes"
   ]
  },
  {
   "cell_type": "code",
   "execution_count": 1,
   "id": "17bd2141",
   "metadata": {},
   "outputs": [],
   "source": [
    "import pandas as pd"
   ]
  },
  {
   "cell_type": "code",
   "execution_count": 2,
   "id": "07a5289d",
   "metadata": {},
   "outputs": [],
   "source": [
    "df_crime = pd.read_csv('chicago_crimes_data.csv')"
   ]
  },
  {
   "cell_type": "code",
   "execution_count": 3,
   "id": "d0208b05",
   "metadata": {
    "scrolled": true
   },
   "outputs": [
    {
     "data": {
      "text/html": [
       "<div>\n",
       "<style scoped>\n",
       "    .dataframe tbody tr th:only-of-type {\n",
       "        vertical-align: middle;\n",
       "    }\n",
       "\n",
       "    .dataframe tbody tr th {\n",
       "        vertical-align: top;\n",
       "    }\n",
       "\n",
       "    .dataframe thead th {\n",
       "        text-align: right;\n",
       "    }\n",
       "</style>\n",
       "<table border=\"1\" class=\"dataframe\">\n",
       "  <thead>\n",
       "    <tr style=\"text-align: right;\">\n",
       "      <th></th>\n",
       "      <th>ID</th>\n",
       "      <th>Case Number</th>\n",
       "      <th>Date</th>\n",
       "      <th>Block</th>\n",
       "      <th>IUCR</th>\n",
       "      <th>Primary Type</th>\n",
       "      <th>Description</th>\n",
       "      <th>Location Description</th>\n",
       "      <th>Arrest</th>\n",
       "      <th>Domestic</th>\n",
       "      <th>...</th>\n",
       "      <th>Ward</th>\n",
       "      <th>Community Area</th>\n",
       "      <th>FBI Code</th>\n",
       "      <th>X Coordinate</th>\n",
       "      <th>Y Coordinate</th>\n",
       "      <th>Year</th>\n",
       "      <th>Updated On</th>\n",
       "      <th>Latitude</th>\n",
       "      <th>Longitude</th>\n",
       "      <th>Location</th>\n",
       "    </tr>\n",
       "  </thead>\n",
       "  <tbody>\n",
       "    <tr>\n",
       "      <th>0</th>\n",
       "      <td>10224738</td>\n",
       "      <td>HY411648</td>\n",
       "      <td>09/05/2015 01:30:00 PM</td>\n",
       "      <td>043XX S WOOD ST</td>\n",
       "      <td>0486</td>\n",
       "      <td>BATTERY</td>\n",
       "      <td>DOMESTIC BATTERY SIMPLE</td>\n",
       "      <td>RESIDENCE</td>\n",
       "      <td>False</td>\n",
       "      <td>True</td>\n",
       "      <td>...</td>\n",
       "      <td>12.0</td>\n",
       "      <td>61.0</td>\n",
       "      <td>08B</td>\n",
       "      <td>1165074.0</td>\n",
       "      <td>1875917.0</td>\n",
       "      <td>2015</td>\n",
       "      <td>02/10/2018 03:50:01 PM</td>\n",
       "      <td>41.815117</td>\n",
       "      <td>-87.670000</td>\n",
       "      <td>(41.815117282, -87.669999562)</td>\n",
       "    </tr>\n",
       "    <tr>\n",
       "      <th>1</th>\n",
       "      <td>10224739</td>\n",
       "      <td>HY411615</td>\n",
       "      <td>09/04/2015 11:30:00 AM</td>\n",
       "      <td>008XX N CENTRAL AVE</td>\n",
       "      <td>0870</td>\n",
       "      <td>THEFT</td>\n",
       "      <td>POCKET-PICKING</td>\n",
       "      <td>CTA BUS</td>\n",
       "      <td>False</td>\n",
       "      <td>False</td>\n",
       "      <td>...</td>\n",
       "      <td>29.0</td>\n",
       "      <td>25.0</td>\n",
       "      <td>06</td>\n",
       "      <td>1138875.0</td>\n",
       "      <td>1904869.0</td>\n",
       "      <td>2015</td>\n",
       "      <td>02/10/2018 03:50:01 PM</td>\n",
       "      <td>41.895080</td>\n",
       "      <td>-87.765400</td>\n",
       "      <td>(41.895080471, -87.765400451)</td>\n",
       "    </tr>\n",
       "    <tr>\n",
       "      <th>2</th>\n",
       "      <td>11646166</td>\n",
       "      <td>JC213529</td>\n",
       "      <td>09/01/2018 12:01:00 AM</td>\n",
       "      <td>082XX S INGLESIDE AVE</td>\n",
       "      <td>0810</td>\n",
       "      <td>THEFT</td>\n",
       "      <td>OVER $500</td>\n",
       "      <td>RESIDENCE</td>\n",
       "      <td>False</td>\n",
       "      <td>True</td>\n",
       "      <td>...</td>\n",
       "      <td>8.0</td>\n",
       "      <td>44.0</td>\n",
       "      <td>06</td>\n",
       "      <td>NaN</td>\n",
       "      <td>NaN</td>\n",
       "      <td>2018</td>\n",
       "      <td>04/06/2019 04:04:43 PM</td>\n",
       "      <td>NaN</td>\n",
       "      <td>NaN</td>\n",
       "      <td>NaN</td>\n",
       "    </tr>\n",
       "    <tr>\n",
       "      <th>3</th>\n",
       "      <td>10224740</td>\n",
       "      <td>HY411595</td>\n",
       "      <td>09/05/2015 12:45:00 PM</td>\n",
       "      <td>035XX W BARRY AVE</td>\n",
       "      <td>2023</td>\n",
       "      <td>NARCOTICS</td>\n",
       "      <td>POSS: HEROIN(BRN/TAN)</td>\n",
       "      <td>SIDEWALK</td>\n",
       "      <td>True</td>\n",
       "      <td>False</td>\n",
       "      <td>...</td>\n",
       "      <td>35.0</td>\n",
       "      <td>21.0</td>\n",
       "      <td>18</td>\n",
       "      <td>1152037.0</td>\n",
       "      <td>1920384.0</td>\n",
       "      <td>2015</td>\n",
       "      <td>02/10/2018 03:50:01 PM</td>\n",
       "      <td>41.937406</td>\n",
       "      <td>-87.716650</td>\n",
       "      <td>(41.937405765, -87.716649687)</td>\n",
       "    </tr>\n",
       "    <tr>\n",
       "      <th>4</th>\n",
       "      <td>10224741</td>\n",
       "      <td>HY411610</td>\n",
       "      <td>09/05/2015 01:00:00 PM</td>\n",
       "      <td>0000X N LARAMIE AVE</td>\n",
       "      <td>0560</td>\n",
       "      <td>ASSAULT</td>\n",
       "      <td>SIMPLE</td>\n",
       "      <td>APARTMENT</td>\n",
       "      <td>False</td>\n",
       "      <td>True</td>\n",
       "      <td>...</td>\n",
       "      <td>28.0</td>\n",
       "      <td>25.0</td>\n",
       "      <td>08A</td>\n",
       "      <td>1141706.0</td>\n",
       "      <td>1900086.0</td>\n",
       "      <td>2015</td>\n",
       "      <td>02/10/2018 03:50:01 PM</td>\n",
       "      <td>41.881903</td>\n",
       "      <td>-87.755121</td>\n",
       "      <td>(41.881903443, -87.755121152)</td>\n",
       "    </tr>\n",
       "  </tbody>\n",
       "</table>\n",
       "<p>5 rows × 22 columns</p>\n",
       "</div>"
      ],
      "text/plain": [
       "         ID Case Number                    Date                  Block  IUCR  \\\n",
       "0  10224738    HY411648  09/05/2015 01:30:00 PM        043XX S WOOD ST  0486   \n",
       "1  10224739    HY411615  09/04/2015 11:30:00 AM    008XX N CENTRAL AVE  0870   \n",
       "2  11646166    JC213529  09/01/2018 12:01:00 AM  082XX S INGLESIDE AVE  0810   \n",
       "3  10224740    HY411595  09/05/2015 12:45:00 PM      035XX W BARRY AVE  2023   \n",
       "4  10224741    HY411610  09/05/2015 01:00:00 PM    0000X N LARAMIE AVE  0560   \n",
       "\n",
       "  Primary Type              Description Location Description  Arrest  \\\n",
       "0      BATTERY  DOMESTIC BATTERY SIMPLE            RESIDENCE   False   \n",
       "1        THEFT           POCKET-PICKING              CTA BUS   False   \n",
       "2        THEFT                OVER $500            RESIDENCE   False   \n",
       "3    NARCOTICS    POSS: HEROIN(BRN/TAN)             SIDEWALK    True   \n",
       "4      ASSAULT                   SIMPLE            APARTMENT   False   \n",
       "\n",
       "   Domestic  ...  Ward  Community Area  FBI Code  X Coordinate Y Coordinate  \\\n",
       "0      True  ...  12.0            61.0       08B     1165074.0    1875917.0   \n",
       "1     False  ...  29.0            25.0        06     1138875.0    1904869.0   \n",
       "2      True  ...   8.0            44.0        06           NaN          NaN   \n",
       "3     False  ...  35.0            21.0        18     1152037.0    1920384.0   \n",
       "4      True  ...  28.0            25.0       08A     1141706.0    1900086.0   \n",
       "\n",
       "   Year              Updated On   Latitude  Longitude  \\\n",
       "0  2015  02/10/2018 03:50:01 PM  41.815117 -87.670000   \n",
       "1  2015  02/10/2018 03:50:01 PM  41.895080 -87.765400   \n",
       "2  2018  04/06/2019 04:04:43 PM        NaN        NaN   \n",
       "3  2015  02/10/2018 03:50:01 PM  41.937406 -87.716650   \n",
       "4  2015  02/10/2018 03:50:01 PM  41.881903 -87.755121   \n",
       "\n",
       "                        Location  \n",
       "0  (41.815117282, -87.669999562)  \n",
       "1  (41.895080471, -87.765400451)  \n",
       "2                            NaN  \n",
       "3  (41.937405765, -87.716649687)  \n",
       "4  (41.881903443, -87.755121152)  \n",
       "\n",
       "[5 rows x 22 columns]"
      ]
     },
     "execution_count": 3,
     "metadata": {},
     "output_type": "execute_result"
    }
   ],
   "source": [
    "df_crime.head()"
   ]
  },
  {
   "cell_type": "code",
   "execution_count": 4,
   "id": "c4e7bb2f",
   "metadata": {},
   "outputs": [
    {
     "data": {
      "text/plain": [
       "(7544367, 22)"
      ]
     },
     "execution_count": 4,
     "metadata": {},
     "output_type": "execute_result"
    }
   ],
   "source": [
    "df_crime.shape"
   ]
  },
  {
   "cell_type": "markdown",
   "id": "4d8625bd",
   "metadata": {
    "scrolled": false
   },
   "source": [
    "df_crime.info()"
   ]
  },
  {
   "cell_type": "code",
   "execution_count": 6,
   "id": "ec410eca",
   "metadata": {},
   "outputs": [
    {
     "data": {
      "text/html": [
       "<div>\n",
       "<style scoped>\n",
       "    .dataframe tbody tr th:only-of-type {\n",
       "        vertical-align: middle;\n",
       "    }\n",
       "\n",
       "    .dataframe tbody tr th {\n",
       "        vertical-align: top;\n",
       "    }\n",
       "\n",
       "    .dataframe thead th {\n",
       "        text-align: right;\n",
       "    }\n",
       "</style>\n",
       "<table border=\"1\" class=\"dataframe\">\n",
       "  <thead>\n",
       "    <tr style=\"text-align: right;\">\n",
       "      <th></th>\n",
       "      <th>Date</th>\n",
       "      <th>Year</th>\n",
       "      <th>Block</th>\n",
       "      <th>Primary Type</th>\n",
       "      <th>Description</th>\n",
       "      <th>Location Description</th>\n",
       "      <th>Arrest</th>\n",
       "      <th>Domestic</th>\n",
       "      <th>District</th>\n",
       "    </tr>\n",
       "  </thead>\n",
       "  <tbody>\n",
       "    <tr>\n",
       "      <th>0</th>\n",
       "      <td>09/05/2015 01:30:00 PM</td>\n",
       "      <td>2015</td>\n",
       "      <td>043XX S WOOD ST</td>\n",
       "      <td>BATTERY</td>\n",
       "      <td>DOMESTIC BATTERY SIMPLE</td>\n",
       "      <td>RESIDENCE</td>\n",
       "      <td>False</td>\n",
       "      <td>True</td>\n",
       "      <td>9.0</td>\n",
       "    </tr>\n",
       "    <tr>\n",
       "      <th>1</th>\n",
       "      <td>09/04/2015 11:30:00 AM</td>\n",
       "      <td>2015</td>\n",
       "      <td>008XX N CENTRAL AVE</td>\n",
       "      <td>THEFT</td>\n",
       "      <td>POCKET-PICKING</td>\n",
       "      <td>CTA BUS</td>\n",
       "      <td>False</td>\n",
       "      <td>False</td>\n",
       "      <td>15.0</td>\n",
       "    </tr>\n",
       "    <tr>\n",
       "      <th>2</th>\n",
       "      <td>09/01/2018 12:01:00 AM</td>\n",
       "      <td>2018</td>\n",
       "      <td>082XX S INGLESIDE AVE</td>\n",
       "      <td>THEFT</td>\n",
       "      <td>OVER $500</td>\n",
       "      <td>RESIDENCE</td>\n",
       "      <td>False</td>\n",
       "      <td>True</td>\n",
       "      <td>6.0</td>\n",
       "    </tr>\n",
       "  </tbody>\n",
       "</table>\n",
       "</div>"
      ],
      "text/plain": [
       "                     Date  Year                  Block Primary Type  \\\n",
       "0  09/05/2015 01:30:00 PM  2015        043XX S WOOD ST      BATTERY   \n",
       "1  09/04/2015 11:30:00 AM  2015    008XX N CENTRAL AVE        THEFT   \n",
       "2  09/01/2018 12:01:00 AM  2018  082XX S INGLESIDE AVE        THEFT   \n",
       "\n",
       "               Description Location Description  Arrest  Domestic  District  \n",
       "0  DOMESTIC BATTERY SIMPLE            RESIDENCE   False      True       9.0  \n",
       "1           POCKET-PICKING              CTA BUS   False     False      15.0  \n",
       "2                OVER $500            RESIDENCE   False      True       6.0  "
      ]
     },
     "execution_count": 6,
     "metadata": {},
     "output_type": "execute_result"
    }
   ],
   "source": [
    "#we will be working with just few columns: Date,block,primary type,\n",
    "#description of crime,description of location,arrest,domestic case,city district\n",
    "selected_columns = ['Date','Year','Block','Primary Type','Description','Location Description','Arrest','Domestic','District']\n",
    "df_crime_new = df_crime[selected_columns]\n",
    "df_crime_new.head(3)"
   ]
  },
  {
   "cell_type": "markdown",
   "id": "6ccb4d0c",
   "metadata": {},
   "source": [
    "###### Data contains more than seven million rows and 22 columns"
   ]
  },
  {
   "cell_type": "code",
   "execution_count": 7,
   "id": "dc56db8b",
   "metadata": {},
   "outputs": [
    {
     "name": "stderr",
     "output_type": "stream",
     "text": [
      "C:\\Users\\USER\\AppData\\Local\\Temp/ipykernel_13992/4213007629.py:2: SettingWithCopyWarning: \n",
      "A value is trying to be set on a copy of a slice from a DataFrame.\n",
      "Try using .loc[row_indexer,col_indexer] = value instead\n",
      "\n",
      "See the caveats in the documentation: https://pandas.pydata.org/pandas-docs/stable/user_guide/indexing.html#returning-a-view-versus-a-copy\n",
      "  df_crime_new['new_date'] = pd.to_datetime(df_crime_new['Date']).dt.date\n"
     ]
    }
   ],
   "source": [
    "#Creating a new column for the months in the data\n",
    "df_crime_new['new_date'] = pd.to_datetime(df_crime_new['Date']).dt.date"
   ]
  },
  {
   "cell_type": "code",
   "execution_count": 8,
   "id": "29f7515e",
   "metadata": {
    "scrolled": false
   },
   "outputs": [
    {
     "data": {
      "text/html": [
       "<div>\n",
       "<style scoped>\n",
       "    .dataframe tbody tr th:only-of-type {\n",
       "        vertical-align: middle;\n",
       "    }\n",
       "\n",
       "    .dataframe tbody tr th {\n",
       "        vertical-align: top;\n",
       "    }\n",
       "\n",
       "    .dataframe thead th {\n",
       "        text-align: right;\n",
       "    }\n",
       "</style>\n",
       "<table border=\"1\" class=\"dataframe\">\n",
       "  <thead>\n",
       "    <tr style=\"text-align: right;\">\n",
       "      <th></th>\n",
       "      <th>Date</th>\n",
       "      <th>Year</th>\n",
       "      <th>Block</th>\n",
       "      <th>Primary Type</th>\n",
       "      <th>Description</th>\n",
       "      <th>Location Description</th>\n",
       "      <th>Arrest</th>\n",
       "      <th>Domestic</th>\n",
       "      <th>District</th>\n",
       "      <th>new_date</th>\n",
       "    </tr>\n",
       "  </thead>\n",
       "  <tbody>\n",
       "    <tr>\n",
       "      <th>0</th>\n",
       "      <td>09/05/2015 01:30:00 PM</td>\n",
       "      <td>2015</td>\n",
       "      <td>043XX S WOOD ST</td>\n",
       "      <td>BATTERY</td>\n",
       "      <td>DOMESTIC BATTERY SIMPLE</td>\n",
       "      <td>RESIDENCE</td>\n",
       "      <td>False</td>\n",
       "      <td>True</td>\n",
       "      <td>9.0</td>\n",
       "      <td>2015-09-05</td>\n",
       "    </tr>\n",
       "    <tr>\n",
       "      <th>1</th>\n",
       "      <td>09/04/2015 11:30:00 AM</td>\n",
       "      <td>2015</td>\n",
       "      <td>008XX N CENTRAL AVE</td>\n",
       "      <td>THEFT</td>\n",
       "      <td>POCKET-PICKING</td>\n",
       "      <td>CTA BUS</td>\n",
       "      <td>False</td>\n",
       "      <td>False</td>\n",
       "      <td>15.0</td>\n",
       "      <td>2015-09-04</td>\n",
       "    </tr>\n",
       "    <tr>\n",
       "      <th>2</th>\n",
       "      <td>09/01/2018 12:01:00 AM</td>\n",
       "      <td>2018</td>\n",
       "      <td>082XX S INGLESIDE AVE</td>\n",
       "      <td>THEFT</td>\n",
       "      <td>OVER $500</td>\n",
       "      <td>RESIDENCE</td>\n",
       "      <td>False</td>\n",
       "      <td>True</td>\n",
       "      <td>6.0</td>\n",
       "      <td>2018-09-01</td>\n",
       "    </tr>\n",
       "    <tr>\n",
       "      <th>3</th>\n",
       "      <td>09/05/2015 12:45:00 PM</td>\n",
       "      <td>2015</td>\n",
       "      <td>035XX W BARRY AVE</td>\n",
       "      <td>NARCOTICS</td>\n",
       "      <td>POSS: HEROIN(BRN/TAN)</td>\n",
       "      <td>SIDEWALK</td>\n",
       "      <td>True</td>\n",
       "      <td>False</td>\n",
       "      <td>14.0</td>\n",
       "      <td>2015-09-05</td>\n",
       "    </tr>\n",
       "    <tr>\n",
       "      <th>4</th>\n",
       "      <td>09/05/2015 01:00:00 PM</td>\n",
       "      <td>2015</td>\n",
       "      <td>0000X N LARAMIE AVE</td>\n",
       "      <td>ASSAULT</td>\n",
       "      <td>SIMPLE</td>\n",
       "      <td>APARTMENT</td>\n",
       "      <td>False</td>\n",
       "      <td>True</td>\n",
       "      <td>15.0</td>\n",
       "      <td>2015-09-05</td>\n",
       "    </tr>\n",
       "  </tbody>\n",
       "</table>\n",
       "</div>"
      ],
      "text/plain": [
       "                     Date  Year                  Block Primary Type  \\\n",
       "0  09/05/2015 01:30:00 PM  2015        043XX S WOOD ST      BATTERY   \n",
       "1  09/04/2015 11:30:00 AM  2015    008XX N CENTRAL AVE        THEFT   \n",
       "2  09/01/2018 12:01:00 AM  2018  082XX S INGLESIDE AVE        THEFT   \n",
       "3  09/05/2015 12:45:00 PM  2015      035XX W BARRY AVE    NARCOTICS   \n",
       "4  09/05/2015 01:00:00 PM  2015    0000X N LARAMIE AVE      ASSAULT   \n",
       "\n",
       "               Description Location Description  Arrest  Domestic  District  \\\n",
       "0  DOMESTIC BATTERY SIMPLE            RESIDENCE   False      True       9.0   \n",
       "1           POCKET-PICKING              CTA BUS   False     False      15.0   \n",
       "2                OVER $500            RESIDENCE   False      True       6.0   \n",
       "3    POSS: HEROIN(BRN/TAN)             SIDEWALK    True     False      14.0   \n",
       "4                   SIMPLE            APARTMENT   False      True      15.0   \n",
       "\n",
       "     new_date  \n",
       "0  2015-09-05  \n",
       "1  2015-09-04  \n",
       "2  2018-09-01  \n",
       "3  2015-09-05  \n",
       "4  2015-09-05  "
      ]
     },
     "execution_count": 8,
     "metadata": {},
     "output_type": "execute_result"
    }
   ],
   "source": [
    "df_crime_new.head() "
   ]
  },
  {
   "cell_type": "code",
   "execution_count": 9,
   "id": "699c44fd",
   "metadata": {},
   "outputs": [
    {
     "name": "stdout",
     "output_type": "stream",
     "text": [
      "<class 'pandas.core.frame.DataFrame'>\n",
      "RangeIndex: 7544367 entries, 0 to 7544366\n",
      "Data columns (total 10 columns):\n",
      " #   Column                Dtype  \n",
      "---  ------                -----  \n",
      " 0   Date                  object \n",
      " 1   Year                  int64  \n",
      " 2   Block                 object \n",
      " 3   Primary Type          object \n",
      " 4   Description           object \n",
      " 5   Location Description  object \n",
      " 6   Arrest                bool   \n",
      " 7   Domestic              bool   \n",
      " 8   District              float64\n",
      " 9   new_date              object \n",
      "dtypes: bool(2), float64(1), int64(1), object(6)\n",
      "memory usage: 474.9+ MB\n"
     ]
    }
   ],
   "source": [
    "df_crime_new.info()"
   ]
  },
  {
   "cell_type": "code",
   "execution_count": 10,
   "id": "f1ebae30",
   "metadata": {},
   "outputs": [
    {
     "name": "stderr",
     "output_type": "stream",
     "text": [
      "C:\\Users\\USER\\AppData\\Local\\Temp/ipykernel_13992/3264222464.py:2: SettingWithCopyWarning: \n",
      "A value is trying to be set on a copy of a slice from a DataFrame.\n",
      "Try using .loc[row_indexer,col_indexer] = value instead\n",
      "\n",
      "See the caveats in the documentation: https://pandas.pydata.org/pandas-docs/stable/user_guide/indexing.html#returning-a-view-versus-a-copy\n",
      "  df_crime_new['new_date'] = pd.to_datetime(df_crime_new['new_date'])\n"
     ]
    }
   ],
   "source": [
    "#convert the date column from type object to datetime\n",
    "df_crime_new['new_date'] = pd.to_datetime(df_crime_new['new_date'])"
   ]
  },
  {
   "cell_type": "code",
   "execution_count": 11,
   "id": "689d5ea9",
   "metadata": {},
   "outputs": [
    {
     "name": "stdout",
     "output_type": "stream",
     "text": [
      "<class 'pandas.core.frame.DataFrame'>\n",
      "RangeIndex: 7544367 entries, 0 to 7544366\n",
      "Data columns (total 10 columns):\n",
      " #   Column                Dtype         \n",
      "---  ------                -----         \n",
      " 0   Date                  object        \n",
      " 1   Year                  int64         \n",
      " 2   Block                 object        \n",
      " 3   Primary Type          object        \n",
      " 4   Description           object        \n",
      " 5   Location Description  object        \n",
      " 6   Arrest                bool          \n",
      " 7   Domestic              bool          \n",
      " 8   District              float64       \n",
      " 9   new_date              datetime64[ns]\n",
      "dtypes: bool(2), datetime64[ns](1), float64(1), int64(1), object(5)\n",
      "memory usage: 474.9+ MB\n"
     ]
    }
   ],
   "source": [
    "df_crime_new.info()"
   ]
  },
  {
   "cell_type": "code",
   "execution_count": 168,
   "id": "25b9fce1",
   "metadata": {},
   "outputs": [
    {
     "name": "stderr",
     "output_type": "stream",
     "text": [
      "C:\\Users\\USER\\AppData\\Local\\Temp/ipykernel_13992/4211491615.py:1: SettingWithCopyWarning:\n",
      "\n",
      "\n",
      "A value is trying to be set on a copy of a slice from a DataFrame.\n",
      "Try using .loc[row_indexer,col_indexer] = value instead\n",
      "\n",
      "See the caveats in the documentation: https://pandas.pydata.org/pandas-docs/stable/user_guide/indexing.html#returning-a-view-versus-a-copy\n",
      "\n",
      "C:\\Users\\USER\\AppData\\Local\\Temp/ipykernel_13992/4211491615.py:2: SettingWithCopyWarning:\n",
      "\n",
      "\n",
      "A value is trying to be set on a copy of a slice from a DataFrame.\n",
      "Try using .loc[row_indexer,col_indexer] = value instead\n",
      "\n",
      "See the caveats in the documentation: https://pandas.pydata.org/pandas-docs/stable/user_guide/indexing.html#returning-a-view-versus-a-copy\n",
      "\n"
     ]
    }
   ],
   "source": [
    "df_crime_new['Month'] = pd.DatetimeIndex(df_crime_new['new_date']).month\n",
    "df_crime_new['Day'] = pd.DatetimeIndex(df_crime_new['new_date']).weekday"
   ]
  },
  {
   "cell_type": "code",
   "execution_count": 169,
   "id": "ef85ebc2",
   "metadata": {},
   "outputs": [
    {
     "data": {
      "text/html": [
       "<div>\n",
       "<style scoped>\n",
       "    .dataframe tbody tr th:only-of-type {\n",
       "        vertical-align: middle;\n",
       "    }\n",
       "\n",
       "    .dataframe tbody tr th {\n",
       "        vertical-align: top;\n",
       "    }\n",
       "\n",
       "    .dataframe thead th {\n",
       "        text-align: right;\n",
       "    }\n",
       "</style>\n",
       "<table border=\"1\" class=\"dataframe\">\n",
       "  <thead>\n",
       "    <tr style=\"text-align: right;\">\n",
       "      <th></th>\n",
       "      <th>Date</th>\n",
       "      <th>Year</th>\n",
       "      <th>Block</th>\n",
       "      <th>Primary Type</th>\n",
       "      <th>Description</th>\n",
       "      <th>Location Description</th>\n",
       "      <th>Arrest</th>\n",
       "      <th>Domestic</th>\n",
       "      <th>District</th>\n",
       "      <th>new_date</th>\n",
       "      <th>Month</th>\n",
       "      <th>Day</th>\n",
       "    </tr>\n",
       "  </thead>\n",
       "  <tbody>\n",
       "    <tr>\n",
       "      <th>0</th>\n",
       "      <td>09/05/2015 01:30:00 PM</td>\n",
       "      <td>2015</td>\n",
       "      <td>043XX S WOOD ST</td>\n",
       "      <td>BATTERY</td>\n",
       "      <td>DOMESTIC BATTERY SIMPLE</td>\n",
       "      <td>RESIDENCE</td>\n",
       "      <td>False</td>\n",
       "      <td>True</td>\n",
       "      <td>9.0</td>\n",
       "      <td>2015-09-05</td>\n",
       "      <td>9</td>\n",
       "      <td>5</td>\n",
       "    </tr>\n",
       "    <tr>\n",
       "      <th>1</th>\n",
       "      <td>09/04/2015 11:30:00 AM</td>\n",
       "      <td>2015</td>\n",
       "      <td>008XX N CENTRAL AVE</td>\n",
       "      <td>THEFT</td>\n",
       "      <td>POCKET-PICKING</td>\n",
       "      <td>CTA BUS</td>\n",
       "      <td>False</td>\n",
       "      <td>False</td>\n",
       "      <td>15.0</td>\n",
       "      <td>2015-09-04</td>\n",
       "      <td>9</td>\n",
       "      <td>4</td>\n",
       "    </tr>\n",
       "  </tbody>\n",
       "</table>\n",
       "</div>"
      ],
      "text/plain": [
       "                     Date  Year                Block Primary Type  \\\n",
       "0  09/05/2015 01:30:00 PM  2015      043XX S WOOD ST      BATTERY   \n",
       "1  09/04/2015 11:30:00 AM  2015  008XX N CENTRAL AVE        THEFT   \n",
       "\n",
       "               Description Location Description  Arrest  Domestic  District  \\\n",
       "0  DOMESTIC BATTERY SIMPLE            RESIDENCE   False      True       9.0   \n",
       "1           POCKET-PICKING              CTA BUS   False     False      15.0   \n",
       "\n",
       "    new_date  Month  Day  \n",
       "0 2015-09-05      9    5  \n",
       "1 2015-09-04      9    4  "
      ]
     },
     "execution_count": 169,
     "metadata": {},
     "output_type": "execute_result"
    }
   ],
   "source": [
    "df_crime_new.head(2)"
   ]
  },
  {
   "cell_type": "code",
   "execution_count": 14,
   "id": "7ee3104c",
   "metadata": {},
   "outputs": [
    {
     "data": {
      "text/plain": [
       "7     694657\n",
       "8     687772\n",
       "5     670700\n",
       "6     660637\n",
       "10    652784\n",
       "9     645635\n",
       "3     628990\n",
       "4     626287\n",
       "1     600473\n",
       "11    587906\n",
       "12    559565\n",
       "2     528961\n",
       "Name: Month, dtype: int64"
      ]
     },
     "execution_count": 14,
     "metadata": {},
     "output_type": "execute_result"
    }
   ],
   "source": [
    "crime_month = df_crime_new['Month'].value_counts()\n",
    "crime_month"
   ]
  },
  {
   "cell_type": "code",
   "execution_count": 15,
   "id": "4a6f1876",
   "metadata": {},
   "outputs": [],
   "source": [
    "crime_month.sort_index(ascending=True,inplace=True)"
   ]
  },
  {
   "cell_type": "code",
   "execution_count": 16,
   "id": "6c2d9fd3",
   "metadata": {},
   "outputs": [
    {
     "data": {
      "text/html": [
       "<div>\n",
       "<style scoped>\n",
       "    .dataframe tbody tr th:only-of-type {\n",
       "        vertical-align: middle;\n",
       "    }\n",
       "\n",
       "    .dataframe tbody tr th {\n",
       "        vertical-align: top;\n",
       "    }\n",
       "\n",
       "    .dataframe thead th {\n",
       "        text-align: right;\n",
       "    }\n",
       "</style>\n",
       "<table border=\"1\" class=\"dataframe\">\n",
       "  <thead>\n",
       "    <tr style=\"text-align: right;\">\n",
       "      <th></th>\n",
       "      <th>Month</th>\n",
       "    </tr>\n",
       "  </thead>\n",
       "  <tbody>\n",
       "    <tr>\n",
       "      <th>1</th>\n",
       "      <td>600473</td>\n",
       "    </tr>\n",
       "    <tr>\n",
       "      <th>2</th>\n",
       "      <td>528961</td>\n",
       "    </tr>\n",
       "    <tr>\n",
       "      <th>3</th>\n",
       "      <td>628990</td>\n",
       "    </tr>\n",
       "    <tr>\n",
       "      <th>4</th>\n",
       "      <td>626287</td>\n",
       "    </tr>\n",
       "    <tr>\n",
       "      <th>5</th>\n",
       "      <td>670700</td>\n",
       "    </tr>\n",
       "    <tr>\n",
       "      <th>6</th>\n",
       "      <td>660637</td>\n",
       "    </tr>\n",
       "    <tr>\n",
       "      <th>7</th>\n",
       "      <td>694657</td>\n",
       "    </tr>\n",
       "    <tr>\n",
       "      <th>8</th>\n",
       "      <td>687772</td>\n",
       "    </tr>\n",
       "    <tr>\n",
       "      <th>9</th>\n",
       "      <td>645635</td>\n",
       "    </tr>\n",
       "    <tr>\n",
       "      <th>10</th>\n",
       "      <td>652784</td>\n",
       "    </tr>\n",
       "    <tr>\n",
       "      <th>11</th>\n",
       "      <td>587906</td>\n",
       "    </tr>\n",
       "    <tr>\n",
       "      <th>12</th>\n",
       "      <td>559565</td>\n",
       "    </tr>\n",
       "  </tbody>\n",
       "</table>\n",
       "</div>"
      ],
      "text/plain": [
       "     Month\n",
       "1   600473\n",
       "2   528961\n",
       "3   628990\n",
       "4   626287\n",
       "5   670700\n",
       "6   660637\n",
       "7   694657\n",
       "8   687772\n",
       "9   645635\n",
       "10  652784\n",
       "11  587906\n",
       "12  559565"
      ]
     },
     "execution_count": 16,
     "metadata": {},
     "output_type": "execute_result"
    }
   ],
   "source": [
    "#convert series to dataframe\n",
    "\n",
    "df_crime_month = pd.DataFrame(crime_month)\n",
    "df_crime_month"
   ]
  },
  {
   "cell_type": "code",
   "execution_count": 17,
   "id": "92b4b04a",
   "metadata": {},
   "outputs": [
    {
     "data": {
      "text/plain": [
       "Int64Index([1, 2, 3, 4, 5, 6, 7, 8, 9, 10, 11, 12], dtype='int64')"
      ]
     },
     "execution_count": 17,
     "metadata": {},
     "output_type": "execute_result"
    }
   ],
   "source": [
    "df_crime_month.index"
   ]
  },
  {
   "cell_type": "code",
   "execution_count": 18,
   "id": "614eb561",
   "metadata": {},
   "outputs": [],
   "source": [
    "months = {1:'January', 2:'February', 3:'March', 4:'April', 5:'May', 6:'June', 7:'July',8:'August', 9:'September',10: 'October',11: 'November',12:'December'}\n",
    "df_crime_month.index =  df_crime_month.index.map(months)"
   ]
  },
  {
   "cell_type": "code",
   "execution_count": 19,
   "id": "52ec63a5",
   "metadata": {},
   "outputs": [
    {
     "data": {
      "text/html": [
       "<div>\n",
       "<style scoped>\n",
       "    .dataframe tbody tr th:only-of-type {\n",
       "        vertical-align: middle;\n",
       "    }\n",
       "\n",
       "    .dataframe tbody tr th {\n",
       "        vertical-align: top;\n",
       "    }\n",
       "\n",
       "    .dataframe thead th {\n",
       "        text-align: right;\n",
       "    }\n",
       "</style>\n",
       "<table border=\"1\" class=\"dataframe\">\n",
       "  <thead>\n",
       "    <tr style=\"text-align: right;\">\n",
       "      <th></th>\n",
       "      <th>Month</th>\n",
       "    </tr>\n",
       "  </thead>\n",
       "  <tbody>\n",
       "    <tr>\n",
       "      <th>January</th>\n",
       "      <td>600473</td>\n",
       "    </tr>\n",
       "    <tr>\n",
       "      <th>February</th>\n",
       "      <td>528961</td>\n",
       "    </tr>\n",
       "    <tr>\n",
       "      <th>March</th>\n",
       "      <td>628990</td>\n",
       "    </tr>\n",
       "    <tr>\n",
       "      <th>April</th>\n",
       "      <td>626287</td>\n",
       "    </tr>\n",
       "    <tr>\n",
       "      <th>May</th>\n",
       "      <td>670700</td>\n",
       "    </tr>\n",
       "    <tr>\n",
       "      <th>June</th>\n",
       "      <td>660637</td>\n",
       "    </tr>\n",
       "    <tr>\n",
       "      <th>July</th>\n",
       "      <td>694657</td>\n",
       "    </tr>\n",
       "    <tr>\n",
       "      <th>August</th>\n",
       "      <td>687772</td>\n",
       "    </tr>\n",
       "    <tr>\n",
       "      <th>September</th>\n",
       "      <td>645635</td>\n",
       "    </tr>\n",
       "    <tr>\n",
       "      <th>October</th>\n",
       "      <td>652784</td>\n",
       "    </tr>\n",
       "    <tr>\n",
       "      <th>November</th>\n",
       "      <td>587906</td>\n",
       "    </tr>\n",
       "    <tr>\n",
       "      <th>December</th>\n",
       "      <td>559565</td>\n",
       "    </tr>\n",
       "  </tbody>\n",
       "</table>\n",
       "</div>"
      ],
      "text/plain": [
       "            Month\n",
       "January    600473\n",
       "February   528961\n",
       "March      628990\n",
       "April      626287\n",
       "May        670700\n",
       "June       660637\n",
       "July       694657\n",
       "August     687772\n",
       "September  645635\n",
       "October    652784\n",
       "November   587906\n",
       "December   559565"
      ]
     },
     "execution_count": 19,
     "metadata": {},
     "output_type": "execute_result"
    }
   ],
   "source": [
    "df_crime_month"
   ]
  },
  {
   "cell_type": "code",
   "execution_count": 20,
   "id": "bc2c9dfc",
   "metadata": {},
   "outputs": [
    {
     "data": {
      "text/html": [
       "<div>\n",
       "<style scoped>\n",
       "    .dataframe tbody tr th:only-of-type {\n",
       "        vertical-align: middle;\n",
       "    }\n",
       "\n",
       "    .dataframe tbody tr th {\n",
       "        vertical-align: top;\n",
       "    }\n",
       "\n",
       "    .dataframe thead th {\n",
       "        text-align: right;\n",
       "    }\n",
       "</style>\n",
       "<table border=\"1\" class=\"dataframe\">\n",
       "  <thead>\n",
       "    <tr style=\"text-align: right;\">\n",
       "      <th></th>\n",
       "      <th>crime_count</th>\n",
       "      <th>%crime</th>\n",
       "    </tr>\n",
       "  </thead>\n",
       "  <tbody>\n",
       "    <tr>\n",
       "      <th>January</th>\n",
       "      <td>600473</td>\n",
       "      <td>7.96</td>\n",
       "    </tr>\n",
       "    <tr>\n",
       "      <th>February</th>\n",
       "      <td>528961</td>\n",
       "      <td>7.01</td>\n",
       "    </tr>\n",
       "    <tr>\n",
       "      <th>March</th>\n",
       "      <td>628990</td>\n",
       "      <td>8.34</td>\n",
       "    </tr>\n",
       "    <tr>\n",
       "      <th>April</th>\n",
       "      <td>626287</td>\n",
       "      <td>8.30</td>\n",
       "    </tr>\n",
       "    <tr>\n",
       "      <th>May</th>\n",
       "      <td>670700</td>\n",
       "      <td>8.89</td>\n",
       "    </tr>\n",
       "    <tr>\n",
       "      <th>June</th>\n",
       "      <td>660637</td>\n",
       "      <td>8.76</td>\n",
       "    </tr>\n",
       "    <tr>\n",
       "      <th>July</th>\n",
       "      <td>694657</td>\n",
       "      <td>9.21</td>\n",
       "    </tr>\n",
       "    <tr>\n",
       "      <th>August</th>\n",
       "      <td>687772</td>\n",
       "      <td>9.12</td>\n",
       "    </tr>\n",
       "    <tr>\n",
       "      <th>September</th>\n",
       "      <td>645635</td>\n",
       "      <td>8.56</td>\n",
       "    </tr>\n",
       "    <tr>\n",
       "      <th>October</th>\n",
       "      <td>652784</td>\n",
       "      <td>8.65</td>\n",
       "    </tr>\n",
       "    <tr>\n",
       "      <th>November</th>\n",
       "      <td>587906</td>\n",
       "      <td>7.79</td>\n",
       "    </tr>\n",
       "    <tr>\n",
       "      <th>December</th>\n",
       "      <td>559565</td>\n",
       "      <td>7.42</td>\n",
       "    </tr>\n",
       "  </tbody>\n",
       "</table>\n",
       "</div>"
      ],
      "text/plain": [
       "           crime_count  %crime\n",
       "January         600473    7.96\n",
       "February        528961    7.01\n",
       "March           628990    8.34\n",
       "April           626287    8.30\n",
       "May             670700    8.89\n",
       "June            660637    8.76\n",
       "July            694657    9.21\n",
       "August          687772    9.12\n",
       "September       645635    8.56\n",
       "October         652784    8.65\n",
       "November        587906    7.79\n",
       "December        559565    7.42"
      ]
     },
     "execution_count": 20,
     "metadata": {},
     "output_type": "execute_result"
    }
   ],
   "source": [
    "#rename column name\n",
    "df_crime_month.rename(columns={'Month':'crime_count'},inplace=True)\n",
    "#create percnetage column\n",
    "df_crime_month['%crime'] = round((df_crime_month['crime_count'] / df_crime_month['crime_count'].sum()) *100,2)\n",
    "#df_crime_month['percentage_difference'] = df_crime_month['%crime'].pct_change() \n",
    "df_crime_month"
   ]
  },
  {
   "cell_type": "code",
   "execution_count": 21,
   "id": "d42fd574",
   "metadata": {},
   "outputs": [],
   "source": [
    "#Visualizing the crime rate by month\n",
    "import matplotlib.pyplot as plt\n",
    "import seaborn as sns"
   ]
  },
  {
   "cell_type": "code",
   "execution_count": 51,
   "id": "24299208",
   "metadata": {},
   "outputs": [
    {
     "data": {
      "image/png": "[encoded data removed]",
      "text/plain": [
       "<Figure size 1080x432 with 1 Axes>"
      ]
     },
     "metadata": {},
     "output_type": "display_data"
    }
   ],
   "source": [
    "sns.set_style('white')\n",
    "sns.set_palette(['#6290C3']) #or RdBu\n",
    "sns.set_context('paper')\n",
    "#sns.set(rc = {'figure.figsize':(15,6)})\n",
    "\n",
    "g = sns.lineplot(x=df_crime_month.index,y = '%crime', data=df_crime_month)\n",
    "g.set_title('Percentage of Crime Per Month',y = 1.05,fontsize=20)\n",
    "g.set_xlabel('Year',fontsize=17)\n",
    "g.set_ylabel('Crime Count (%)',fontsize=16)\n",
    "plt.xticks(rotation=90,fontsize=15)\n",
    "plt.yticks(fontsize=15)\n",
    "g.annotate('July has the highest recorded crime rate of 9.2%'\n",
    "           ,fontsize=13,\n",
    "           fontstyle='italic',\n",
    "           color='#1A1B41',\n",
    "           xy=(5.95,9.25), #set to where the arrow head is going to \n",
    "           xytext=(7,9.2), #insert to where the textstarts\n",
    "           arrowprops=dict(facecolor='black',shrink=0.05,width=2,headwidth=7))\n",
    "g.annotate('February has the lowest recorded crime rate of 7.01%'\n",
    "           ,fontsize=13,fontstyle='italic'\n",
    "           ,color='#1A1B41',\n",
    "           xy=(0.95,7), #set to where the arrow head is going to \n",
    "           xytext=(2,7), #insert to where the textstarts\n",
    "           arrowprops=dict(facecolor='black',shrink=0.05,width=2,headwidth=7))\n",
    "\n",
    "plt.show()"
   ]
  },
  {
   "cell_type": "markdown",
   "id": "c74e8b50",
   "metadata": {},
   "source": [
    "#### insight\n",
    "* Crime has been high through the months but July had the highest crime rate of about 9.2% which is about 2% higher \n",
    "than the percentage crime rate of other months"
   ]
  },
  {
   "cell_type": "code",
   "execution_count": 23,
   "id": "2fad5330",
   "metadata": {},
   "outputs": [
    {
     "data": {
      "text/html": [
       "<div>\n",
       "<style scoped>\n",
       "    .dataframe tbody tr th:only-of-type {\n",
       "        vertical-align: middle;\n",
       "    }\n",
       "\n",
       "    .dataframe tbody tr th {\n",
       "        vertical-align: top;\n",
       "    }\n",
       "\n",
       "    .dataframe thead th {\n",
       "        text-align: right;\n",
       "    }\n",
       "</style>\n",
       "<table border=\"1\" class=\"dataframe\">\n",
       "  <thead>\n",
       "    <tr style=\"text-align: right;\">\n",
       "      <th></th>\n",
       "      <th>Date</th>\n",
       "      <th>Year</th>\n",
       "      <th>Block</th>\n",
       "      <th>Primary Type</th>\n",
       "      <th>Description</th>\n",
       "      <th>Location Description</th>\n",
       "      <th>Arrest</th>\n",
       "      <th>Domestic</th>\n",
       "      <th>District</th>\n",
       "      <th>new_date</th>\n",
       "      <th>Month</th>\n",
       "      <th>Day</th>\n",
       "    </tr>\n",
       "  </thead>\n",
       "  <tbody>\n",
       "    <tr>\n",
       "      <th>0</th>\n",
       "      <td>09/05/2015 01:30:00 PM</td>\n",
       "      <td>2015</td>\n",
       "      <td>043XX S WOOD ST</td>\n",
       "      <td>BATTERY</td>\n",
       "      <td>DOMESTIC BATTERY SIMPLE</td>\n",
       "      <td>RESIDENCE</td>\n",
       "      <td>False</td>\n",
       "      <td>True</td>\n",
       "      <td>9.0</td>\n",
       "      <td>2015-09-05</td>\n",
       "      <td>9</td>\n",
       "      <td>5</td>\n",
       "    </tr>\n",
       "    <tr>\n",
       "      <th>1</th>\n",
       "      <td>09/04/2015 11:30:00 AM</td>\n",
       "      <td>2015</td>\n",
       "      <td>008XX N CENTRAL AVE</td>\n",
       "      <td>THEFT</td>\n",
       "      <td>POCKET-PICKING</td>\n",
       "      <td>CTA BUS</td>\n",
       "      <td>False</td>\n",
       "      <td>False</td>\n",
       "      <td>15.0</td>\n",
       "      <td>2015-09-04</td>\n",
       "      <td>9</td>\n",
       "      <td>4</td>\n",
       "    </tr>\n",
       "  </tbody>\n",
       "</table>\n",
       "</div>"
      ],
      "text/plain": [
       "                     Date  Year                Block Primary Type  \\\n",
       "0  09/05/2015 01:30:00 PM  2015      043XX S WOOD ST      BATTERY   \n",
       "1  09/04/2015 11:30:00 AM  2015  008XX N CENTRAL AVE        THEFT   \n",
       "\n",
       "               Description Location Description  Arrest  Domestic  District  \\\n",
       "0  DOMESTIC BATTERY SIMPLE            RESIDENCE   False      True       9.0   \n",
       "1           POCKET-PICKING              CTA BUS   False     False      15.0   \n",
       "\n",
       "    new_date  Month  Day  \n",
       "0 2015-09-05      9    5  \n",
       "1 2015-09-04      9    4  "
      ]
     },
     "execution_count": 23,
     "metadata": {},
     "output_type": "execute_result"
    }
   ],
   "source": [
    "df_crime_new.head(2)"
   ]
  },
  {
   "cell_type": "code",
   "execution_count": 84,
   "id": "1e126232",
   "metadata": {
    "scrolled": true
   },
   "outputs": [
    {
     "data": {
      "text/html": [
       "<div>\n",
       "<style scoped>\n",
       "    .dataframe tbody tr th:only-of-type {\n",
       "        vertical-align: middle;\n",
       "    }\n",
       "\n",
       "    .dataframe tbody tr th {\n",
       "        vertical-align: top;\n",
       "    }\n",
       "\n",
       "    .dataframe thead th {\n",
       "        text-align: right;\n",
       "    }\n",
       "</style>\n",
       "<table border=\"1\" class=\"dataframe\">\n",
       "  <thead>\n",
       "    <tr style=\"text-align: right;\">\n",
       "      <th></th>\n",
       "      <th>Location Description</th>\n",
       "    </tr>\n",
       "  </thead>\n",
       "  <tbody>\n",
       "    <tr>\n",
       "      <th>STREET</th>\n",
       "      <td>1956042</td>\n",
       "    </tr>\n",
       "    <tr>\n",
       "      <th>RESIDENCE</th>\n",
       "      <td>1275534</td>\n",
       "    </tr>\n",
       "    <tr>\n",
       "      <th>APARTMENT</th>\n",
       "      <td>835128</td>\n",
       "    </tr>\n",
       "    <tr>\n",
       "      <th>SIDEWALK</th>\n",
       "      <td>716958</td>\n",
       "    </tr>\n",
       "    <tr>\n",
       "      <th>OTHER</th>\n",
       "      <td>270051</td>\n",
       "    </tr>\n",
       "    <tr>\n",
       "      <th>PARKING LOT/GARAGE(NON.RESID.)</th>\n",
       "      <td>203005</td>\n",
       "    </tr>\n",
       "    <tr>\n",
       "      <th>ALLEY</th>\n",
       "      <td>167617</td>\n",
       "    </tr>\n",
       "    <tr>\n",
       "      <th>SCHOOL, PUBLIC, BUILDING</th>\n",
       "      <td>146393</td>\n",
       "    </tr>\n",
       "    <tr>\n",
       "      <th>SMALL RETAIL STORE</th>\n",
       "      <td>140354</td>\n",
       "    </tr>\n",
       "    <tr>\n",
       "      <th>RESIDENCE-GARAGE</th>\n",
       "      <td>135546</td>\n",
       "    </tr>\n",
       "  </tbody>\n",
       "</table>\n",
       "</div>"
      ],
      "text/plain": [
       "                                Location Description\n",
       "STREET                                       1956042\n",
       "RESIDENCE                                    1275534\n",
       "APARTMENT                                     835128\n",
       "SIDEWALK                                      716958\n",
       "OTHER                                         270051\n",
       "PARKING LOT/GARAGE(NON.RESID.)                203005\n",
       "ALLEY                                         167617\n",
       "SCHOOL, PUBLIC, BUILDING                      146393\n",
       "SMALL RETAIL STORE                            140354\n",
       "RESIDENCE-GARAGE                              135546"
      ]
     },
     "execution_count": 84,
     "metadata": {},
     "output_type": "execute_result"
    }
   ],
   "source": [
    "location_frame = df_crime_new['Location Description'].value_counts(ascending=False)[:10]\n",
    "location_frame = location_frame.to_frame()\n",
    "location_frame"
   ]
  },
  {
   "cell_type": "code",
   "execution_count": 85,
   "id": "64e94ac1",
   "metadata": {},
   "outputs": [
    {
     "data": {
      "text/plain": [
       "['STREET',\n",
       " 'RESIDENCE',\n",
       " 'APARTMENT',\n",
       " 'SIDEWALK',\n",
       " 'OTHER',\n",
       " 'PARKING LOT/GARAGE(NON.RESID.)',\n",
       " 'ALLEY',\n",
       " 'SCHOOL, PUBLIC, BUILDING',\n",
       " 'SMALL RETAIL STORE',\n",
       " 'RESIDENCE-GARAGE']"
      ]
     },
     "execution_count": 85,
     "metadata": {},
     "output_type": "execute_result"
    }
   ],
   "source": [
    "list(location_frame.index)"
   ]
  },
  {
   "cell_type": "markdown",
   "id": "a04d8d1b",
   "metadata": {},
   "source": [
    "* Top 10 places were crimes are mostly commited"
   ]
  },
  {
   "cell_type": "code",
   "execution_count": 157,
   "id": "5165fb9b",
   "metadata": {},
   "outputs": [
    {
     "data": {
      "image/png": "[encoded data removed]",
      "text/plain": [
       "<Figure size 1152x720 with 1 Axes>"
      ]
     },
     "metadata": {},
     "output_type": "display_data"
    }
   ],
   "source": [
    "sns.set(rc = {'figure.figsize':(16,10)})\n",
    "sns.set_style('white')\n",
    "sns.set_palette(['#A50114']) #or RdBu\n",
    "sns.barplot(data = location_frame,x=location_frame.index,y=location_frame['Location Description'])\n",
    "plt.title('Top 10 Locations where Crime Occured in Chicago between 2001-2022',fontsize=18)\n",
    "plt.ylabel('Number of Arrests',fontsize=15)\n",
    "#plt.yscale('log')\n",
    "plt.xticks(rotation=90,fontsize=15)\n",
    "#plt.yticks(ticks=[0,250,500,750,1,1.25,1.50,1.75,2])\n",
    "plt.show()"
   ]
  },
  {
   "cell_type": "code",
   "execution_count": 26,
   "id": "45e38ef4",
   "metadata": {
    "scrolled": true
   },
   "outputs": [
    {
     "data": {
      "text/html": [
       "<div>\n",
       "<style scoped>\n",
       "    .dataframe tbody tr th:only-of-type {\n",
       "        vertical-align: middle;\n",
       "    }\n",
       "\n",
       "    .dataframe tbody tr th {\n",
       "        vertical-align: top;\n",
       "    }\n",
       "\n",
       "    .dataframe thead th {\n",
       "        text-align: right;\n",
       "    }\n",
       "</style>\n",
       "<table border=\"1\" class=\"dataframe\">\n",
       "  <thead>\n",
       "    <tr style=\"text-align: right;\">\n",
       "      <th></th>\n",
       "      <th>Date</th>\n",
       "      <th>Year</th>\n",
       "      <th>Block</th>\n",
       "      <th>Primary Type</th>\n",
       "      <th>Description</th>\n",
       "      <th>Location Description</th>\n",
       "      <th>Arrest</th>\n",
       "      <th>Domestic</th>\n",
       "      <th>District</th>\n",
       "      <th>new_date</th>\n",
       "      <th>Month</th>\n",
       "      <th>Day</th>\n",
       "    </tr>\n",
       "  </thead>\n",
       "  <tbody>\n",
       "    <tr>\n",
       "      <th>0</th>\n",
       "      <td>09/05/2015 01:30:00 PM</td>\n",
       "      <td>2015</td>\n",
       "      <td>043XX S WOOD ST</td>\n",
       "      <td>BATTERY</td>\n",
       "      <td>DOMESTIC BATTERY SIMPLE</td>\n",
       "      <td>RESIDENCE</td>\n",
       "      <td>False</td>\n",
       "      <td>True</td>\n",
       "      <td>9.0</td>\n",
       "      <td>2015-09-05</td>\n",
       "      <td>9</td>\n",
       "      <td>5</td>\n",
       "    </tr>\n",
       "    <tr>\n",
       "      <th>2</th>\n",
       "      <td>09/01/2018 12:01:00 AM</td>\n",
       "      <td>2018</td>\n",
       "      <td>082XX S INGLESIDE AVE</td>\n",
       "      <td>THEFT</td>\n",
       "      <td>OVER $500</td>\n",
       "      <td>RESIDENCE</td>\n",
       "      <td>False</td>\n",
       "      <td>True</td>\n",
       "      <td>6.0</td>\n",
       "      <td>2018-09-01</td>\n",
       "      <td>9</td>\n",
       "      <td>1</td>\n",
       "    </tr>\n",
       "    <tr>\n",
       "      <th>3</th>\n",
       "      <td>09/05/2015 12:45:00 PM</td>\n",
       "      <td>2015</td>\n",
       "      <td>035XX W BARRY AVE</td>\n",
       "      <td>NARCOTICS</td>\n",
       "      <td>POSS: HEROIN(BRN/TAN)</td>\n",
       "      <td>SIDEWALK</td>\n",
       "      <td>True</td>\n",
       "      <td>False</td>\n",
       "      <td>14.0</td>\n",
       "      <td>2015-09-05</td>\n",
       "      <td>9</td>\n",
       "      <td>5</td>\n",
       "    </tr>\n",
       "    <tr>\n",
       "      <th>4</th>\n",
       "      <td>09/05/2015 01:00:00 PM</td>\n",
       "      <td>2015</td>\n",
       "      <td>0000X N LARAMIE AVE</td>\n",
       "      <td>ASSAULT</td>\n",
       "      <td>SIMPLE</td>\n",
       "      <td>APARTMENT</td>\n",
       "      <td>False</td>\n",
       "      <td>True</td>\n",
       "      <td>15.0</td>\n",
       "      <td>2015-09-05</td>\n",
       "      <td>9</td>\n",
       "      <td>5</td>\n",
       "    </tr>\n",
       "    <tr>\n",
       "      <th>5</th>\n",
       "      <td>09/05/2015 10:55:00 AM</td>\n",
       "      <td>2015</td>\n",
       "      <td>082XX S LOOMIS BLVD</td>\n",
       "      <td>BURGLARY</td>\n",
       "      <td>FORCIBLE ENTRY</td>\n",
       "      <td>RESIDENCE</td>\n",
       "      <td>False</td>\n",
       "      <td>False</td>\n",
       "      <td>6.0</td>\n",
       "      <td>2015-09-05</td>\n",
       "      <td>9</td>\n",
       "      <td>5</td>\n",
       "    </tr>\n",
       "  </tbody>\n",
       "</table>\n",
       "</div>"
      ],
      "text/plain": [
       "                     Date  Year                  Block Primary Type  \\\n",
       "0  09/05/2015 01:30:00 PM  2015        043XX S WOOD ST      BATTERY   \n",
       "2  09/01/2018 12:01:00 AM  2018  082XX S INGLESIDE AVE        THEFT   \n",
       "3  09/05/2015 12:45:00 PM  2015      035XX W BARRY AVE    NARCOTICS   \n",
       "4  09/05/2015 01:00:00 PM  2015    0000X N LARAMIE AVE      ASSAULT   \n",
       "5  09/05/2015 10:55:00 AM  2015    082XX S LOOMIS BLVD     BURGLARY   \n",
       "\n",
       "               Description Location Description  Arrest  Domestic  District  \\\n",
       "0  DOMESTIC BATTERY SIMPLE            RESIDENCE   False      True       9.0   \n",
       "2                OVER $500            RESIDENCE   False      True       6.0   \n",
       "3    POSS: HEROIN(BRN/TAN)             SIDEWALK    True     False      14.0   \n",
       "4                   SIMPLE            APARTMENT   False      True      15.0   \n",
       "5           FORCIBLE ENTRY            RESIDENCE   False     False       6.0   \n",
       "\n",
       "    new_date  Month  Day  \n",
       "0 2015-09-05      9    5  \n",
       "2 2018-09-01      9    1  \n",
       "3 2015-09-05      9    5  \n",
       "4 2015-09-05      9    5  \n",
       "5 2015-09-05      9    5  "
      ]
     },
     "execution_count": 26,
     "metadata": {},
     "output_type": "execute_result"
    }
   ],
   "source": [
    "#create dataframe containing only top loactions where crimes were commited\n",
    "df_top_location = df_crime_new[df_crime_new['Location Description'].isin(list(g.index)) ]\n",
    "df_top_location.head()"
   ]
  },
  {
   "cell_type": "code",
   "execution_count": 27,
   "id": "79e3c42f",
   "metadata": {},
   "outputs": [
    {
     "data": {
      "text/plain": [
       "(5053713, 12)"
      ]
     },
     "execution_count": 27,
     "metadata": {},
     "output_type": "execute_result"
    }
   ],
   "source": [
    "df_top_location.shape"
   ]
  },
  {
   "cell_type": "code",
   "execution_count": 29,
   "id": "432749c0",
   "metadata": {
    "collapsed": true
   },
   "outputs": [
    {
     "data": {
      "text/html": [
       "<div>\n",
       "<style scoped>\n",
       "    .dataframe tbody tr th:only-of-type {\n",
       "        vertical-align: middle;\n",
       "    }\n",
       "\n",
       "    .dataframe tbody tr th {\n",
       "        vertical-align: top;\n",
       "    }\n",
       "\n",
       "    .dataframe thead th {\n",
       "        text-align: right;\n",
       "    }\n",
       "</style>\n",
       "<table border=\"1\" class=\"dataframe\">\n",
       "  <thead>\n",
       "    <tr style=\"text-align: right;\">\n",
       "      <th></th>\n",
       "      <th>Year</th>\n",
       "      <th>Location Description</th>\n",
       "    </tr>\n",
       "  </thead>\n",
       "  <tbody>\n",
       "    <tr>\n",
       "      <th>0</th>\n",
       "      <td>2001</td>\n",
       "      <td>28427</td>\n",
       "    </tr>\n",
       "    <tr>\n",
       "      <th>1</th>\n",
       "      <td>2001</td>\n",
       "      <td>21334</td>\n",
       "    </tr>\n",
       "    <tr>\n",
       "      <th>2</th>\n",
       "      <td>2001</td>\n",
       "      <td>94210</td>\n",
       "    </tr>\n",
       "    <tr>\n",
       "      <th>3</th>\n",
       "      <td>2001</td>\n",
       "      <td>29279</td>\n",
       "    </tr>\n",
       "    <tr>\n",
       "      <th>4</th>\n",
       "      <td>2001</td>\n",
       "      <td>150457</td>\n",
       "    </tr>\n",
       "    <tr>\n",
       "      <th>...</th>\n",
       "      <td>...</td>\n",
       "      <td>...</td>\n",
       "    </tr>\n",
       "    <tr>\n",
       "      <th>103</th>\n",
       "      <td>2021</td>\n",
       "      <td>52020</td>\n",
       "    </tr>\n",
       "    <tr>\n",
       "      <th>104</th>\n",
       "      <td>2022</td>\n",
       "      <td>15891</td>\n",
       "    </tr>\n",
       "    <tr>\n",
       "      <th>105</th>\n",
       "      <td>2022</td>\n",
       "      <td>9880</td>\n",
       "    </tr>\n",
       "    <tr>\n",
       "      <th>106</th>\n",
       "      <td>2022</td>\n",
       "      <td>3295</td>\n",
       "    </tr>\n",
       "    <tr>\n",
       "      <th>107</th>\n",
       "      <td>2022</td>\n",
       "      <td>18639</td>\n",
       "    </tr>\n",
       "  </tbody>\n",
       "</table>\n",
       "<p>108 rows × 2 columns</p>\n",
       "</div>"
      ],
      "text/plain": [
       "     Year  Location Description\n",
       "0    2001                 28427\n",
       "1    2001                 21334\n",
       "2    2001                 94210\n",
       "3    2001                 29279\n",
       "4    2001                150457\n",
       "..    ...                   ...\n",
       "103  2021                 52020\n",
       "104  2022                 15891\n",
       "105  2022                  9880\n",
       "106  2022                  3295\n",
       "107  2022                 18639\n",
       "\n",
       "[108 rows x 2 columns]"
      ]
     },
     "execution_count": 29,
     "metadata": {},
     "output_type": "execute_result"
    }
   ],
   "source": [
    "df_top_location.groupby(['Year','Location Description'],as_index=False).agg({'Location Description' : 'count'})"
   ]
  },
  {
   "cell_type": "code",
   "execution_count": 30,
   "id": "23606ea5",
   "metadata": {},
   "outputs": [
    {
     "data": {
      "text/plain": [
       "['STREET', 'RESIDENCE', 'APARTMENT', 'SIDEWALK', 'OTHER']"
      ]
     },
     "execution_count": 30,
     "metadata": {},
     "output_type": "execute_result"
    }
   ],
   "source": [
    "list(g.index)"
   ]
  },
  {
   "cell_type": "code",
   "execution_count": 31,
   "id": "1cba4c68",
   "metadata": {},
   "outputs": [
    {
     "data": {
      "text/html": [
       "<div>\n",
       "<style scoped>\n",
       "    .dataframe tbody tr th:only-of-type {\n",
       "        vertical-align: middle;\n",
       "    }\n",
       "\n",
       "    .dataframe tbody tr th {\n",
       "        vertical-align: top;\n",
       "    }\n",
       "\n",
       "    .dataframe thead th {\n",
       "        text-align: right;\n",
       "    }\n",
       "</style>\n",
       "<table border=\"1\" class=\"dataframe\">\n",
       "  <thead>\n",
       "    <tr style=\"text-align: right;\">\n",
       "      <th></th>\n",
       "      <th>Year</th>\n",
       "      <th>Location Description</th>\n",
       "      <th>Arrest</th>\n",
       "    </tr>\n",
       "  </thead>\n",
       "  <tbody>\n",
       "    <tr>\n",
       "      <th>0</th>\n",
       "      <td>2001</td>\n",
       "      <td>APARTMENT</td>\n",
       "      <td>23545</td>\n",
       "    </tr>\n",
       "    <tr>\n",
       "      <th>1</th>\n",
       "      <td>2001</td>\n",
       "      <td>APARTMENT</td>\n",
       "      <td>4882</td>\n",
       "    </tr>\n",
       "    <tr>\n",
       "      <th>2</th>\n",
       "      <td>2001</td>\n",
       "      <td>OTHER</td>\n",
       "      <td>16754</td>\n",
       "    </tr>\n",
       "    <tr>\n",
       "      <th>3</th>\n",
       "      <td>2001</td>\n",
       "      <td>OTHER</td>\n",
       "      <td>4580</td>\n",
       "    </tr>\n",
       "    <tr>\n",
       "      <th>4</th>\n",
       "      <td>2001</td>\n",
       "      <td>RESIDENCE</td>\n",
       "      <td>79030</td>\n",
       "    </tr>\n",
       "    <tr>\n",
       "      <th>...</th>\n",
       "      <td>...</td>\n",
       "      <td>...</td>\n",
       "      <td>...</td>\n",
       "    </tr>\n",
       "    <tr>\n",
       "      <th>211</th>\n",
       "      <td>2022</td>\n",
       "      <td>RESIDENCE</td>\n",
       "      <td>632</td>\n",
       "    </tr>\n",
       "    <tr>\n",
       "      <th>212</th>\n",
       "      <td>2022</td>\n",
       "      <td>SIDEWALK</td>\n",
       "      <td>2478</td>\n",
       "    </tr>\n",
       "    <tr>\n",
       "      <th>213</th>\n",
       "      <td>2022</td>\n",
       "      <td>SIDEWALK</td>\n",
       "      <td>817</td>\n",
       "    </tr>\n",
       "    <tr>\n",
       "      <th>214</th>\n",
       "      <td>2022</td>\n",
       "      <td>STREET</td>\n",
       "      <td>15597</td>\n",
       "    </tr>\n",
       "    <tr>\n",
       "      <th>215</th>\n",
       "      <td>2022</td>\n",
       "      <td>STREET</td>\n",
       "      <td>3042</td>\n",
       "    </tr>\n",
       "  </tbody>\n",
       "</table>\n",
       "<p>216 rows × 3 columns</p>\n",
       "</div>"
      ],
      "text/plain": [
       "     Year Location Description  Arrest\n",
       "0    2001            APARTMENT   23545\n",
       "1    2001            APARTMENT    4882\n",
       "2    2001                OTHER   16754\n",
       "3    2001                OTHER    4580\n",
       "4    2001            RESIDENCE   79030\n",
       "..    ...                  ...     ...\n",
       "211  2022            RESIDENCE     632\n",
       "212  2022             SIDEWALK    2478\n",
       "213  2022             SIDEWALK     817\n",
       "214  2022               STREET   15597\n",
       "215  2022               STREET    3042\n",
       "\n",
       "[216 rows x 3 columns]"
      ]
     },
     "execution_count": 31,
     "metadata": {},
     "output_type": "execute_result"
    }
   ],
   "source": [
    "df_top_location.groupby(['Year','Location Description','Arrest'],as_index=False).agg({'Arrest':'count'})"
   ]
  },
  {
   "cell_type": "markdown",
   "id": "081ad077",
   "metadata": {},
   "source": [
    "### Determine the Arrests by District by Year"
   ]
  },
  {
   "cell_type": "code",
   "execution_count": 32,
   "id": "ceec8123",
   "metadata": {},
   "outputs": [
    {
     "name": "stdout",
     "output_type": "stream",
     "text": [
      "Number of crime that resulted in an arrest is:  3789735\n",
      "Number of crime that did not result to an arrest is:  1263978\n"
     ]
    }
   ],
   "source": [
    "Arrest_True = df_top_location[df_top_location['Arrest']== False]\n",
    "Arrest_False = df_top_location[df_top_location['Arrest'] == True]\n",
    "print(f'Number of crime that resulted in an arrest is:  {len(Arrest_True)}')\n",
    "print(f'Number of crime that did not result to an arrest is:  {len(Arrest_False)}')"
   ]
  },
  {
   "cell_type": "code",
   "execution_count": 33,
   "id": "b7c6fc62",
   "metadata": {},
   "outputs": [
    {
     "name": "stdout",
     "output_type": "stream",
     "text": [
      "75.0% of crimes led to an arrest\n"
     ]
    }
   ],
   "source": [
    "#proportion of crimes that led to an arrest and proportion of crime that did not lead to an arrest\n",
    "arrest_proportion= len(Arrest_True)/(len(Arrest_True) + len(Arrest_False))\n",
    "arrest_proportion \n",
    "print(f'{round(arrest_proportion,2)*100}% of crimes led to an arrest')"
   ]
  },
  {
   "cell_type": "markdown",
   "id": "6cae393b",
   "metadata": {},
   "source": [
    "* Since about 75% of crimes led to an arrest that means approximately 25% of crimes did not lead to an arrest"
   ]
  },
  {
   "cell_type": "code",
   "execution_count": 34,
   "id": "fa5579f8",
   "metadata": {
    "collapsed": true
   },
   "outputs": [
    {
     "data": {
      "text/html": [
       "<div>\n",
       "<style scoped>\n",
       "    .dataframe tbody tr th:only-of-type {\n",
       "        vertical-align: middle;\n",
       "    }\n",
       "\n",
       "    .dataframe tbody tr th {\n",
       "        vertical-align: top;\n",
       "    }\n",
       "\n",
       "    .dataframe thead th {\n",
       "        text-align: right;\n",
       "    }\n",
       "</style>\n",
       "<table border=\"1\" class=\"dataframe\">\n",
       "  <thead>\n",
       "    <tr style=\"text-align: right;\">\n",
       "      <th></th>\n",
       "      <th>Year</th>\n",
       "      <th>District</th>\n",
       "      <th>Arrest</th>\n",
       "    </tr>\n",
       "  </thead>\n",
       "  <tbody>\n",
       "    <tr>\n",
       "      <th>0</th>\n",
       "      <td>2001</td>\n",
       "      <td>1.0</td>\n",
       "      <td>3650</td>\n",
       "    </tr>\n",
       "    <tr>\n",
       "      <th>1</th>\n",
       "      <td>2001</td>\n",
       "      <td>2.0</td>\n",
       "      <td>13562</td>\n",
       "    </tr>\n",
       "    <tr>\n",
       "      <th>2</th>\n",
       "      <td>2001</td>\n",
       "      <td>3.0</td>\n",
       "      <td>13972</td>\n",
       "    </tr>\n",
       "    <tr>\n",
       "      <th>3</th>\n",
       "      <td>2001</td>\n",
       "      <td>4.0</td>\n",
       "      <td>14703</td>\n",
       "    </tr>\n",
       "    <tr>\n",
       "      <th>4</th>\n",
       "      <td>2001</td>\n",
       "      <td>5.0</td>\n",
       "      <td>11189</td>\n",
       "    </tr>\n",
       "    <tr>\n",
       "      <th>5</th>\n",
       "      <td>2001</td>\n",
       "      <td>6.0</td>\n",
       "      <td>14217</td>\n",
       "    </tr>\n",
       "    <tr>\n",
       "      <th>6</th>\n",
       "      <td>2001</td>\n",
       "      <td>7.0</td>\n",
       "      <td>15903</td>\n",
       "    </tr>\n",
       "    <tr>\n",
       "      <th>7</th>\n",
       "      <td>2001</td>\n",
       "      <td>8.0</td>\n",
       "      <td>15228</td>\n",
       "    </tr>\n",
       "    <tr>\n",
       "      <th>8</th>\n",
       "      <td>2001</td>\n",
       "      <td>9.0</td>\n",
       "      <td>12016</td>\n",
       "    </tr>\n",
       "    <tr>\n",
       "      <th>9</th>\n",
       "      <td>2001</td>\n",
       "      <td>10.0</td>\n",
       "      <td>9821</td>\n",
       "    </tr>\n",
       "  </tbody>\n",
       "</table>\n",
       "</div>"
      ],
      "text/plain": [
       "   Year  District  Arrest\n",
       "0  2001       1.0    3650\n",
       "1  2001       2.0   13562\n",
       "2  2001       3.0   13972\n",
       "3  2001       4.0   14703\n",
       "4  2001       5.0   11189\n",
       "5  2001       6.0   14217\n",
       "6  2001       7.0   15903\n",
       "7  2001       8.0   15228\n",
       "8  2001       9.0   12016\n",
       "9  2001      10.0    9821"
      ]
     },
     "execution_count": 34,
     "metadata": {},
     "output_type": "execute_result"
    }
   ],
   "source": [
    "df_Arrest_True = Arrest_True.groupby(['Year','District'],as_index=False)['Arrest'].count()\n",
    "df_Arrest_True.head(10)"
   ]
  },
  {
   "cell_type": "code",
   "execution_count": 35,
   "id": "cf83174b",
   "metadata": {
    "collapsed": true
   },
   "outputs": [
    {
     "data": {
      "text/html": [
       "<div>\n",
       "<style scoped>\n",
       "    .dataframe tbody tr th:only-of-type {\n",
       "        vertical-align: middle;\n",
       "    }\n",
       "\n",
       "    .dataframe tbody tr th {\n",
       "        vertical-align: top;\n",
       "    }\n",
       "\n",
       "    .dataframe thead th {\n",
       "        text-align: right;\n",
       "    }\n",
       "</style>\n",
       "<table border=\"1\" class=\"dataframe\">\n",
       "  <thead>\n",
       "    <tr style=\"text-align: right;\">\n",
       "      <th></th>\n",
       "      <th>Year</th>\n",
       "      <th>District</th>\n",
       "      <th>Arrest</th>\n",
       "    </tr>\n",
       "  </thead>\n",
       "  <tbody>\n",
       "    <tr>\n",
       "      <th>29</th>\n",
       "      <td>2002</td>\n",
       "      <td>8.0</td>\n",
       "      <td>16131</td>\n",
       "    </tr>\n",
       "    <tr>\n",
       "      <th>168</th>\n",
       "      <td>2008</td>\n",
       "      <td>8.0</td>\n",
       "      <td>16022</td>\n",
       "    </tr>\n",
       "    <tr>\n",
       "      <th>6</th>\n",
       "      <td>2001</td>\n",
       "      <td>7.0</td>\n",
       "      <td>15903</td>\n",
       "    </tr>\n",
       "    <tr>\n",
       "      <th>167</th>\n",
       "      <td>2008</td>\n",
       "      <td>7.0</td>\n",
       "      <td>15857</td>\n",
       "    </tr>\n",
       "    <tr>\n",
       "      <th>28</th>\n",
       "      <td>2002</td>\n",
       "      <td>7.0</td>\n",
       "      <td>15839</td>\n",
       "    </tr>\n",
       "    <tr>\n",
       "      <th>122</th>\n",
       "      <td>2006</td>\n",
       "      <td>8.0</td>\n",
       "      <td>15629</td>\n",
       "    </tr>\n",
       "    <tr>\n",
       "      <th>51</th>\n",
       "      <td>2003</td>\n",
       "      <td>7.0</td>\n",
       "      <td>15546</td>\n",
       "    </tr>\n",
       "    <tr>\n",
       "      <th>48</th>\n",
       "      <td>2003</td>\n",
       "      <td>4.0</td>\n",
       "      <td>15476</td>\n",
       "    </tr>\n",
       "    <tr>\n",
       "      <th>52</th>\n",
       "      <td>2003</td>\n",
       "      <td>8.0</td>\n",
       "      <td>15449</td>\n",
       "    </tr>\n",
       "    <tr>\n",
       "      <th>99</th>\n",
       "      <td>2005</td>\n",
       "      <td>8.0</td>\n",
       "      <td>15446</td>\n",
       "    </tr>\n",
       "  </tbody>\n",
       "</table>\n",
       "</div>"
      ],
      "text/plain": [
       "     Year  District  Arrest\n",
       "29   2002       8.0   16131\n",
       "168  2008       8.0   16022\n",
       "6    2001       7.0   15903\n",
       "167  2008       7.0   15857\n",
       "28   2002       7.0   15839\n",
       "122  2006       8.0   15629\n",
       "51   2003       7.0   15546\n",
       "48   2003       4.0   15476\n",
       "52   2003       8.0   15449\n",
       "99   2005       8.0   15446"
      ]
     },
     "execution_count": 35,
     "metadata": {},
     "output_type": "execute_result"
    }
   ],
   "source": [
    "#what districtand year had the most arrest\n",
    "Top_10_Arrest_by_year_district = df_Arrest_True.nlargest(10,'Arrest')\n",
    "Top_10_Arrest_by_year_district"
   ]
  },
  {
   "cell_type": "markdown",
   "id": "6567f2b6",
   "metadata": {},
   "source": [
    "* The most arrests happened in district 8 in 2002 with a total number of 16,131 Arrests"
   ]
  },
  {
   "cell_type": "code",
   "execution_count": 40,
   "id": "70c608a5",
   "metadata": {},
   "outputs": [
    {
     "name": "stdout",
     "output_type": "stream",
     "text": [
      "Collecting plotly\n",
      "  Downloading plotly-5.8.0-py2.py3-none-any.whl (15.2 MB)\n",
      "Collecting tenacity>=6.2.0\n",
      "  Downloading tenacity-8.0.1-py3-none-any.whl (24 kB)\n",
      "Installing collected packages: tenacity, plotly\n",
      "Successfully installed plotly-5.8.0 tenacity-8.0.1\n"
     ]
    }
   ],
   "source": [
    "!pip install plotly"
   ]
  },
  {
   "cell_type": "code",
   "execution_count": 41,
   "id": "f3eeed1a",
   "metadata": {
    "scrolled": true
   },
   "outputs": [],
   "source": [
    "import plotly.express as px"
   ]
  },
  {
   "cell_type": "code",
   "execution_count": 109,
   "id": "23c3a0cb",
   "metadata": {},
   "outputs": [
    {
     "data": {
      "application/vnd.plotly.v1+json": {
       "config": {
        "plotlyServerURL": "https://plot.ly"
       },
       "data": [
        {
         "hovertemplate": "District=1.0<br>Year=%{x}<br>Arrest=%{y}<extra></extra>",
         "legendgroup": "1.0",
         "line": {
          "color": "#636efa",
          "dash": "solid"
         },
         "marker": {
          "symbol": "circle"
         },
         "mode": "lines",
         "name": "1.0",
         "orientation": "v",
         "showlegend": true,
         "type": "scatter",
         "x": [
          2001,
          2002,
          2003,
          2004,
          2005,
          2006,
          2007,
          2008,
          2009,
          2010,
          2011,
          2012,
          2013,
          2014,
          2015,
          2016,
          2017,
          2018,
          2019,
          2020,
          2021,
          2022
         ],
         "xaxis": "x",
         "y": [
          3650,
          4393,
          4341,
          4270,
          4058,
          4133,
          4065,
          4609,
          3746,
          4002,
          3427,
          3557,
          3610,
          3444,
          4005,
          4706,
          4796,
          4596,
          4507,
          2677,
          3149,
          1353
         ],
         "yaxis": "y"
        },
        {
         "hovertemplate": "District=2.0<br>Year=%{x}<br>Arrest=%{y}<extra></extra>",
         "legendgroup": "2.0",
         "line": {
          "color": "#EF553B",
          "dash": "solid"
         },
         "marker": {
          "symbol": "circle"
         },
         "mode": "lines",
         "name": "2.0",
         "orientation": "v",
         "showlegend": true,
         "type": "scatter",
         "x": [
          2001,
          2002,
          2003,
          2004,
          2005,
          2006,
          2007,
          2008,
          2009,
          2010,
          2011,
          2012,
          2013,
          2014,
          2015,
          2016,
          2017,
          2018,
          2019,
          2020,
          2021,
          2022
         ],
         "xaxis": "x",
         "y": [
          13562,
          11554,
          11197,
          10872,
          10643,
          10241,
          9420,
          9080,
          8760,
          8636,
          8290,
          7527,
          6814,
          6305,
          6291,
          6997,
          6842,
          7070,
          6254,
          5801,
          6215,
          2247
         ],
         "yaxis": "y"
        },
        {
         "hovertemplate": "District=3.0<br>Year=%{x}<br>Arrest=%{y}<extra></extra>",
         "legendgroup": "3.0",
         "line": {
          "color": "#00cc96",
          "dash": "solid"
         },
         "marker": {
          "symbol": "circle"
         },
         "mode": "lines",
         "name": "3.0",
         "orientation": "v",
         "showlegend": true,
         "type": "scatter",
         "x": [
          2001,
          2002,
          2003,
          2004,
          2005,
          2006,
          2007,
          2008,
          2009,
          2010,
          2011,
          2012,
          2013,
          2014,
          2015,
          2016,
          2017,
          2018,
          2019,
          2020,
          2021,
          2022
         ],
         "xaxis": "x",
         "y": [
          13972,
          13455,
          13335,
          13275,
          12829,
          12783,
          12517,
          12211,
          11719,
          11321,
          10875,
          10240,
          9301,
          7734,
          7972,
          7834,
          8057,
          7633,
          7865,
          7456,
          7521,
          2595
         ],
         "yaxis": "y"
        },
        {
         "hovertemplate": "District=4.0<br>Year=%{x}<br>Arrest=%{y}<extra></extra>",
         "legendgroup": "4.0",
         "line": {
          "color": "#ab63fa",
          "dash": "solid"
         },
         "marker": {
          "symbol": "circle"
         },
         "mode": "lines",
         "name": "4.0",
         "orientation": "v",
         "showlegend": true,
         "type": "scatter",
         "x": [
          2001,
          2002,
          2003,
          2004,
          2005,
          2006,
          2007,
          2008,
          2009,
          2010,
          2011,
          2012,
          2013,
          2014,
          2015,
          2016,
          2017,
          2018,
          2019,
          2020,
          2021,
          2022
         ],
         "xaxis": "x",
         "y": [
          14703,
          15304,
          15476,
          14577,
          13981,
          14884,
          14455,
          14329,
          12505,
          12114,
          12112,
          11437,
          10171,
          8778,
          8421,
          9084,
          8802,
          8160,
          7722,
          7798,
          8581,
          2851
         ],
         "yaxis": "y"
        },
        {
         "hovertemplate": "District=5.0<br>Year=%{x}<br>Arrest=%{y}<extra></extra>",
         "legendgroup": "5.0",
         "line": {
          "color": "#FFA15A",
          "dash": "solid"
         },
         "marker": {
          "symbol": "circle"
         },
         "mode": "lines",
         "name": "5.0",
         "orientation": "v",
         "showlegend": true,
         "type": "scatter",
         "x": [
          2001,
          2002,
          2003,
          2004,
          2005,
          2006,
          2007,
          2008,
          2009,
          2010,
          2011,
          2012,
          2013,
          2014,
          2015,
          2016,
          2017,
          2018,
          2019,
          2020,
          2021,
          2022
         ],
         "xaxis": "x",
         "y": [
          11189,
          11423,
          10719,
          10816,
          11268,
          10850,
          11379,
          11175,
          10088,
          8835,
          8644,
          7918,
          7180,
          6287,
          5975,
          6500,
          6322,
          6276,
          5980,
          6264,
          6191,
          1953
         ],
         "yaxis": "y"
        },
        {
         "hovertemplate": "District=6.0<br>Year=%{x}<br>Arrest=%{y}<extra></extra>",
         "legendgroup": "6.0",
         "line": {
          "color": "#19d3f3",
          "dash": "solid"
         },
         "marker": {
          "symbol": "circle"
         },
         "mode": "lines",
         "name": "6.0",
         "orientation": "v",
         "showlegend": true,
         "type": "scatter",
         "x": [
          2001,
          2002,
          2003,
          2004,
          2005,
          2006,
          2007,
          2008,
          2009,
          2010,
          2011,
          2012,
          2013,
          2014,
          2015,
          2016,
          2017,
          2018,
          2019,
          2020,
          2021,
          2022
         ],
         "xaxis": "x",
         "y": [
          14217,
          14301,
          14224,
          14213,
          14097,
          13912,
          13905,
          14073,
          12552,
          11507,
          10838,
          9996,
          9538,
          8961,
          8554,
          9429,
          9197,
          8968,
          9030,
          8326,
          8909,
          3190
         ],
         "yaxis": "y"
        },
        {
         "hovertemplate": "District=7.0<br>Year=%{x}<br>Arrest=%{y}<extra></extra>",
         "legendgroup": "7.0",
         "line": {
          "color": "#FF6692",
          "dash": "solid"
         },
         "marker": {
          "symbol": "circle"
         },
         "mode": "lines",
         "name": "7.0",
         "orientation": "v",
         "showlegend": true,
         "type": "scatter",
         "x": [
          2001,
          2002,
          2003,
          2004,
          2005,
          2006,
          2007,
          2008,
          2009,
          2010,
          2011,
          2012,
          2013,
          2014,
          2015,
          2016,
          2017,
          2018,
          2019,
          2020,
          2021,
          2022
         ],
         "xaxis": "x",
         "y": [
          15903,
          15839,
          15546,
          15085,
          14934,
          15290,
          15273,
          15857,
          13109,
          12715,
          11534,
          10623,
          9713,
          8276,
          7922,
          8028,
          7680,
          8095,
          7569,
          7120,
          7030,
          2289
         ],
         "yaxis": "y"
        },
        {
         "hovertemplate": "District=8.0<br>Year=%{x}<br>Arrest=%{y}<extra></extra>",
         "legendgroup": "8.0",
         "line": {
          "color": "#B6E880",
          "dash": "solid"
         },
         "marker": {
          "symbol": "circle"
         },
         "mode": "lines",
         "name": "8.0",
         "orientation": "v",
         "showlegend": true,
         "type": "scatter",
         "x": [
          2001,
          2002,
          2003,
          2004,
          2005,
          2006,
          2007,
          2008,
          2009,
          2010,
          2011,
          2012,
          2013,
          2014,
          2015,
          2016,
          2017,
          2018,
          2019,
          2020,
          2021,
          2022
         ],
         "xaxis": "x",
         "y": [
          15228,
          16131,
          15449,
          15369,
          15446,
          15629,
          15110,
          16022,
          14273,
          13477,
          12272,
          11030,
          9967,
          9174,
          8813,
          9654,
          9274,
          9218,
          8388,
          7617,
          8067,
          2761
         ],
         "yaxis": "y"
        },
        {
         "hovertemplate": "District=9.0<br>Year=%{x}<br>Arrest=%{y}<extra></extra>",
         "legendgroup": "9.0",
         "line": {
          "color": "#FF97FF",
          "dash": "solid"
         },
         "marker": {
          "symbol": "circle"
         },
         "mode": "lines",
         "name": "9.0",
         "orientation": "v",
         "showlegend": true,
         "type": "scatter",
         "x": [
          2001,
          2002,
          2003,
          2004,
          2005,
          2006,
          2007,
          2008,
          2009,
          2010,
          2011,
          2012,
          2013,
          2014,
          2015,
          2016,
          2017,
          2018,
          2019,
          2020,
          2021,
          2022
         ],
         "xaxis": "x",
         "y": [
          12016,
          12836,
          12307,
          11625,
          11312,
          11320,
          10275,
          10862,
          9274,
          9431,
          9303,
          8519,
          7370,
          6929,
          6526,
          7072,
          6304,
          5835,
          5635,
          5150,
          5546,
          2019
         ],
         "yaxis": "y"
        },
        {
         "hovertemplate": "District=10.0<br>Year=%{x}<br>Arrest=%{y}<extra></extra>",
         "legendgroup": "10.0",
         "line": {
          "color": "#FECB52",
          "dash": "solid"
         },
         "marker": {
          "symbol": "circle"
         },
         "mode": "lines",
         "name": "10.0",
         "orientation": "v",
         "showlegend": true,
         "type": "scatter",
         "x": [
          2001,
          2002,
          2003,
          2004,
          2005,
          2006,
          2007,
          2008,
          2009,
          2010,
          2011,
          2012,
          2013,
          2014,
          2015,
          2016,
          2017,
          2018,
          2019,
          2020,
          2021,
          2022
         ],
         "xaxis": "x",
         "y": [
          9821,
          9834,
          9648,
          9608,
          9129,
          8593,
          8851,
          8985,
          8194,
          8287,
          7784,
          7774,
          6674,
          6047,
          5936,
          6961,
          6523,
          6217,
          5944,
          5677,
          5596,
          1794
         ],
         "yaxis": "y"
        },
        {
         "hovertemplate": "District=11.0<br>Year=%{x}<br>Arrest=%{y}<extra></extra>",
         "legendgroup": "11.0",
         "line": {
          "color": "#636efa",
          "dash": "solid"
         },
         "marker": {
          "symbol": "circle"
         },
         "mode": "lines",
         "name": "11.0",
         "orientation": "v",
         "showlegend": true,
         "type": "scatter",
         "x": [
          2001,
          2002,
          2003,
          2004,
          2005,
          2006,
          2007,
          2008,
          2009,
          2010,
          2011,
          2012,
          2013,
          2014,
          2015,
          2016,
          2017,
          2018,
          2019,
          2020,
          2021,
          2022
         ],
         "xaxis": "x",
         "y": [
          11629,
          12243,
          11638,
          11775,
          11524,
          11642,
          11366,
          11807,
          10392,
          9930,
          9568,
          9544,
          8317,
          7735,
          7944,
          9007,
          8498,
          8745,
          7848,
          7665,
          7377,
          2370
         ],
         "yaxis": "y"
        },
        {
         "hovertemplate": "District=12.0<br>Year=%{x}<br>Arrest=%{y}<extra></extra>",
         "legendgroup": "12.0",
         "line": {
          "color": "#EF553B",
          "dash": "solid"
         },
         "marker": {
          "symbol": "circle"
         },
         "mode": "lines",
         "name": "12.0",
         "orientation": "v",
         "showlegend": true,
         "type": "scatter",
         "x": [
          2001,
          2002,
          2003,
          2004,
          2005,
          2006,
          2007,
          2008,
          2009,
          2010,
          2011,
          2012,
          2013,
          2014,
          2015,
          2016,
          2017,
          2018,
          2019,
          2020,
          2021,
          2022
         ],
         "xaxis": "x",
         "y": [
          11222,
          11495,
          11455,
          11342,
          10234,
          10752,
          10202,
          10525,
          9485,
          9162,
          8832,
          8659,
          7331,
          6776,
          6596,
          7962,
          7519,
          6928,
          6746,
          5242,
          6126,
          2212
         ],
         "yaxis": "y"
        },
        {
         "hovertemplate": "District=14.0<br>Year=%{x}<br>Arrest=%{y}<extra></extra>",
         "legendgroup": "14.0",
         "line": {
          "color": "#00cc96",
          "dash": "solid"
         },
         "marker": {
          "symbol": "circle"
         },
         "mode": "lines",
         "name": "14.0",
         "orientation": "v",
         "showlegend": true,
         "type": "scatter",
         "x": [
          2001,
          2002,
          2003,
          2004,
          2005,
          2006,
          2007,
          2008,
          2009,
          2010,
          2011,
          2012,
          2013,
          2014,
          2015,
          2016,
          2017,
          2018,
          2019,
          2020,
          2021,
          2022
         ],
         "xaxis": "x",
         "y": [
          12725,
          12312,
          10940,
          10007,
          7974,
          7608,
          8796,
          9062,
          8674,
          8601,
          7666,
          6865,
          6055,
          5283,
          4921,
          5942,
          5601,
          5106,
          4819,
          3427,
          3727,
          1272
         ],
         "yaxis": "y"
        },
        {
         "hovertemplate": "District=15.0<br>Year=%{x}<br>Arrest=%{y}<extra></extra>",
         "legendgroup": "15.0",
         "line": {
          "color": "#ab63fa",
          "dash": "solid"
         },
         "marker": {
          "symbol": "circle"
         },
         "mode": "lines",
         "name": "15.0",
         "orientation": "v",
         "showlegend": true,
         "type": "scatter",
         "x": [
          2001,
          2002,
          2003,
          2004,
          2005,
          2006,
          2007,
          2008,
          2009,
          2010,
          2011,
          2012,
          2013,
          2014,
          2015,
          2016,
          2017,
          2018,
          2019,
          2020,
          2021,
          2022
         ],
         "xaxis": "x",
         "y": [
          8950,
          9046,
          8950,
          8816,
          8031,
          7852,
          8345,
          8369,
          7721,
          7027,
          6812,
          6683,
          6293,
          5623,
          5561,
          6339,
          5907,
          5641,
          5628,
          5570,
          5142,
          1639
         ],
         "yaxis": "y"
        },
        {
         "hovertemplate": "District=16.0<br>Year=%{x}<br>Arrest=%{y}<extra></extra>",
         "legendgroup": "16.0",
         "line": {
          "color": "#FFA15A",
          "dash": "solid"
         },
         "marker": {
          "symbol": "circle"
         },
         "mode": "lines",
         "name": "16.0",
         "orientation": "v",
         "showlegend": true,
         "type": "scatter",
         "x": [
          2001,
          2002,
          2003,
          2004,
          2005,
          2006,
          2007,
          2008,
          2009,
          2010,
          2011,
          2012,
          2013,
          2014,
          2015,
          2016,
          2017,
          2018,
          2019,
          2020,
          2021,
          2022
         ],
         "xaxis": "x",
         "y": [
          7429,
          7910,
          8096,
          7080,
          6398,
          5766,
          7191,
          8032,
          6876,
          6009,
          5650,
          5608,
          5011,
          4446,
          4641,
          4949,
          4519,
          4629,
          4247,
          4176,
          4468,
          1427
         ],
         "yaxis": "y"
        },
        {
         "hovertemplate": "District=17.0<br>Year=%{x}<br>Arrest=%{y}<extra></extra>",
         "legendgroup": "17.0",
         "line": {
          "color": "#19d3f3",
          "dash": "solid"
         },
         "marker": {
          "symbol": "circle"
         },
         "mode": "lines",
         "name": "17.0",
         "orientation": "v",
         "showlegend": true,
         "type": "scatter",
         "x": [
          2001,
          2002,
          2003,
          2004,
          2005,
          2006,
          2007,
          2008,
          2009,
          2010,
          2011,
          2012,
          2013,
          2014,
          2015,
          2016,
          2017,
          2018,
          2019,
          2020,
          2021,
          2022
         ],
         "xaxis": "x",
         "y": [
          7423,
          7358,
          7281,
          6640,
          6047,
          5683,
          6215,
          6752,
          6140,
          6075,
          5521,
          5410,
          4738,
          3962,
          4353,
          4422,
          4519,
          4354,
          3793,
          3397,
          3416,
          1148
         ],
         "yaxis": "y"
        },
        {
         "hovertemplate": "District=18.0<br>Year=%{x}<br>Arrest=%{y}<extra></extra>",
         "legendgroup": "18.0",
         "line": {
          "color": "#FF6692",
          "dash": "solid"
         },
         "marker": {
          "symbol": "circle"
         },
         "mode": "lines",
         "name": "18.0",
         "orientation": "v",
         "showlegend": true,
         "type": "scatter",
         "x": [
          2001,
          2002,
          2003,
          2004,
          2005,
          2006,
          2007,
          2008,
          2009,
          2010,
          2011,
          2012,
          2013,
          2014,
          2015,
          2016,
          2017,
          2018,
          2019,
          2020,
          2021,
          2022
         ],
         "xaxis": "x",
         "y": [
          7289,
          7658,
          7270,
          6980,
          6192,
          6482,
          6876,
          7487,
          5998,
          5937,
          5412,
          5442,
          4626,
          4259,
          4213,
          5119,
          5475,
          6102,
          5393,
          3450,
          4016,
          1197
         ],
         "yaxis": "y"
        },
        {
         "hovertemplate": "District=19.0<br>Year=%{x}<br>Arrest=%{y}<extra></extra>",
         "legendgroup": "19.0",
         "line": {
          "color": "#B6E880",
          "dash": "solid"
         },
         "marker": {
          "symbol": "circle"
         },
         "mode": "lines",
         "name": "19.0",
         "orientation": "v",
         "showlegend": true,
         "type": "scatter",
         "x": [
          2001,
          2002,
          2003,
          2004,
          2005,
          2006,
          2007,
          2008,
          2009,
          2010,
          2011,
          2012,
          2013,
          2014,
          2015,
          2016,
          2017,
          2018,
          2019,
          2020,
          2021,
          2022
         ],
         "xaxis": "x",
         "y": [
          10093,
          10412,
          9563,
          9967,
          8908,
          9080,
          8920,
          10524,
          8653,
          8270,
          7595,
          7804,
          6732,
          5777,
          5759,
          6183,
          6040,
          6280,
          5834,
          4748,
          5193,
          1768
         ],
         "yaxis": "y"
        },
        {
         "hovertemplate": "District=20.0<br>Year=%{x}<br>Arrest=%{y}<extra></extra>",
         "legendgroup": "20.0",
         "line": {
          "color": "#FF97FF",
          "dash": "solid"
         },
         "marker": {
          "symbol": "circle"
         },
         "mode": "lines",
         "name": "20.0",
         "orientation": "v",
         "showlegend": true,
         "type": "scatter",
         "x": [
          2001,
          2002,
          2003,
          2004,
          2005,
          2006,
          2007,
          2008,
          2009,
          2010,
          2011,
          2012,
          2013,
          2014,
          2015,
          2016,
          2017,
          2018,
          2019,
          2020,
          2021,
          2022
         ],
         "xaxis": "x",
         "y": [
          4645,
          4328,
          3980,
          4149,
          4175,
          3997,
          3650,
          3942,
          3190,
          3064,
          2879,
          2955,
          2435,
          2155,
          2144,
          2325,
          2401,
          2640,
          2291,
          2243,
          2389,
          777
         ],
         "yaxis": "y"
        },
        {
         "hovertemplate": "District=22.0<br>Year=%{x}<br>Arrest=%{y}<extra></extra>",
         "legendgroup": "22.0",
         "line": {
          "color": "#FECB52",
          "dash": "solid"
         },
         "marker": {
          "symbol": "circle"
         },
         "mode": "lines",
         "name": "22.0",
         "orientation": "v",
         "showlegend": true,
         "type": "scatter",
         "x": [
          2001,
          2002,
          2003,
          2004,
          2005,
          2006,
          2007,
          2008,
          2009,
          2010,
          2011,
          2012,
          2013,
          2014,
          2015,
          2016,
          2017,
          2018,
          2019,
          2020,
          2021,
          2022
         ],
         "xaxis": "x",
         "y": [
          8225,
          8487,
          8161,
          8298,
          8081,
          8223,
          8267,
          8055,
          7144,
          6753,
          6299,
          5821,
          5367,
          4686,
          4773,
          4953,
          4622,
          4646,
          4442,
          4264,
          4302,
          1389
         ],
         "yaxis": "y"
        },
        {
         "hovertemplate": "District=24.0<br>Year=%{x}<br>Arrest=%{y}<extra></extra>",
         "legendgroup": "24.0",
         "line": {
          "color": "#636efa",
          "dash": "solid"
         },
         "marker": {
          "symbol": "circle"
         },
         "mode": "lines",
         "name": "24.0",
         "orientation": "v",
         "showlegend": true,
         "type": "scatter",
         "x": [
          2001,
          2002,
          2003,
          2004,
          2005,
          2006,
          2007,
          2008,
          2009,
          2010,
          2011,
          2012,
          2013,
          2014,
          2015,
          2016,
          2017,
          2018,
          2019,
          2020,
          2021,
          2022
         ],
         "xaxis": "x",
         "y": [
          8165,
          8378,
          7535,
          8099,
          7640,
          7448,
          6828,
          7394,
          6233,
          6210,
          5556,
          5143,
          4704,
          4247,
          3813,
          4246,
          4741,
          4424,
          4492,
          4000,
          4254,
          1579
         ],
         "yaxis": "y"
        },
        {
         "hovertemplate": "District=25.0<br>Year=%{x}<br>Arrest=%{y}<extra></extra>",
         "legendgroup": "25.0",
         "line": {
          "color": "#EF553B",
          "dash": "solid"
         },
         "marker": {
          "symbol": "circle"
         },
         "mode": "lines",
         "name": "25.0",
         "orientation": "v",
         "showlegend": true,
         "type": "scatter",
         "x": [
          2001,
          2002,
          2003,
          2004,
          2005,
          2006,
          2007,
          2008,
          2009,
          2010,
          2011,
          2012,
          2013,
          2014,
          2015,
          2016,
          2017,
          2018,
          2019,
          2020,
          2021,
          2022
         ],
         "xaxis": "x",
         "y": [
          14605,
          14513,
          14405,
          13074,
          11654,
          11111,
          12480,
          12439,
          12295,
          11757,
          10740,
          10109,
          8913,
          7638,
          7423,
          8133,
          8030,
          7433,
          6977,
          6475,
          6547,
          2121
         ],
         "yaxis": "y"
        },
        {
         "hovertemplate": "District=31.0<br>Year=%{x}<br>Arrest=%{y}<extra></extra>",
         "legendgroup": "31.0",
         "line": {
          "color": "#00cc96",
          "dash": "solid"
         },
         "marker": {
          "symbol": "circle"
         },
         "mode": "lines",
         "name": "31.0",
         "orientation": "v",
         "showlegend": true,
         "type": "scatter",
         "x": [
          2002,
          2003,
          2005,
          2006,
          2007,
          2008,
          2009,
          2010,
          2011,
          2012,
          2013,
          2014,
          2015,
          2016,
          2017,
          2018,
          2019,
          2021
         ],
         "xaxis": "x",
         "y": [
          5,
          4,
          1,
          1,
          3,
          6,
          4,
          4,
          3,
          1,
          4,
          2,
          1,
          1,
          1,
          8,
          2,
          1
         ],
         "yaxis": "y"
        },
        {
         "hovertemplate": "District=21.0<br>Year=%{x}<br>Arrest=%{y}<extra></extra>",
         "legendgroup": "21.0",
         "line": {
          "color": "#ab63fa",
          "dash": "solid"
         },
         "marker": {
          "symbol": "circle"
         },
         "mode": "lines",
         "name": "21.0",
         "orientation": "v",
         "showlegend": true,
         "type": "scatter",
         "x": [
          2003,
          2004
         ],
         "xaxis": "x",
         "y": [
          1,
          1
         ],
         "yaxis": "y"
        }
       ],
       "layout": {
        "legend": {
         "title": {
          "text": "District"
         },
         "tracegroupgap": 0
        },
        "template": {
         "data": {
          "bar": [
           {
            "error_x": {
             "color": "#2a3f5f"
            },
            "error_y": {
             "color": "#2a3f5f"
            },
            "marker": {
             "line": {
              "color": "#E5ECF6",
              "width": 0.5
             },
             "pattern": {
              "fillmode": "overlay",
              "size": 10,
              "solidity": 0.2
             }
            },
            "type": "bar"
           }
          ],
          "barpolar": [
           {
            "marker": {
             "line": {
              "color": "#E5ECF6",
              "width": 0.5
             },
             "pattern": {
              "fillmode": "overlay",
              "size": 10,
              "solidity": 0.2
             }
            },
            "type": "barpolar"
           }
          ],
          "carpet": [
           {
            "aaxis": {
             "endlinecolor": "#2a3f5f",
             "gridcolor": "white",
             "linecolor": "white",
             "minorgridcolor": "white",
             "startlinecolor": "#2a3f5f"
            },
            "baxis": {
             "endlinecolor": "#2a3f5f",
             "gridcolor": "white",
             "linecolor": "white",
             "minorgridcolor": "white",
             "startlinecolor": "#2a3f5f"
            },
            "type": "carpet"
           }
          ],
          "choropleth": [
           {
            "colorbar": {
             "outlinewidth": 0,
             "ticks": ""
            },
            "type": "choropleth"
           }
          ],
          "contour": [
           {
            "colorbar": {
             "outlinewidth": 0,
             "ticks": ""
            },
            "colorscale": [
             [
              0,
              "#0d0887"
             ],
             [
              0.1111111111111111,
              "#46039f"
             ],
             [
              0.2222222222222222,
              "#7201a8"
             ],
             [
              0.3333333333333333,
              "#9c179e"
             ],
             [
              0.4444444444444444,
              "#bd3786"
             ],
             [
              0.5555555555555556,
              "#d8576b"
             ],
             [
              0.6666666666666666,
              "#ed7953"
             ],
             [
              0.7777777777777778,
              "#fb9f3a"
             ],
             [
              0.8888888888888888,
              "#fdca26"
             ],
             [
              1,
              "#f0f921"
             ]
            ],
            "type": "contour"
           }
          ],
          "contourcarpet": [
           {
            "colorbar": {
             "outlinewidth": 0,
             "ticks": ""
            },
            "type": "contourcarpet"
           }
          ],
          "heatmap": [
           {
            "colorbar": {
             "outlinewidth": 0,
             "ticks": ""
            },
            "colorscale": [
             [
              0,
              "#0d0887"
             ],
             [
              0.1111111111111111,
              "#46039f"
             ],
             [
              0.2222222222222222,
              "#7201a8"
             ],
             [
              0.3333333333333333,
              "#9c179e"
             ],
             [
              0.4444444444444444,
              "#bd3786"
             ],
             [
              0.5555555555555556,
              "#d8576b"
             ],
             [
              0.6666666666666666,
              "#ed7953"
             ],
             [
              0.7777777777777778,
              "#fb9f3a"
             ],
             [
              0.8888888888888888,
              "#fdca26"
             ],
             [
              1,
              "#f0f921"
             ]
            ],
            "type": "heatmap"
           }
          ],
          "heatmapgl": [
           {
            "colorbar": {
             "outlinewidth": 0,
             "ticks": ""
            },
            "colorscale": [
             [
              0,
              "#0d0887"
             ],
             [
              0.1111111111111111,
              "#46039f"
             ],
             [
              0.2222222222222222,
              "#7201a8"
             ],
             [
              0.3333333333333333,
              "#9c179e"
             ],
             [
              0.4444444444444444,
              "#bd3786"
             ],
             [
              0.5555555555555556,
              "#d8576b"
             ],
             [
              0.6666666666666666,
              "#ed7953"
             ],
             [
              0.7777777777777778,
              "#fb9f3a"
             ],
             [
              0.8888888888888888,
              "#fdca26"
             ],
             [
              1,
              "#f0f921"
             ]
            ],
            "type": "heatmapgl"
           }
          ],
          "histogram": [
           {
            "marker": {
             "pattern": {
              "fillmode": "overlay",
              "size": 10,
              "solidity": 0.2
             }
            },
            "type": "histogram"
           }
          ],
          "histogram2d": [
           {
            "colorbar": {
             "outlinewidth": 0,
             "ticks": ""
            },
            "colorscale": [
             [
              0,
              "#0d0887"
             ],
             [
              0.1111111111111111,
              "#46039f"
             ],
             [
              0.2222222222222222,
              "#7201a8"
             ],
             [
              0.3333333333333333,
              "#9c179e"
             ],
             [
              0.4444444444444444,
              "#bd3786"
             ],
             [
              0.5555555555555556,
              "#d8576b"
             ],
             [
              0.6666666666666666,
              "#ed7953"
             ],
             [
              0.7777777777777778,
              "#fb9f3a"
             ],
             [
              0.8888888888888888,
              "#fdca26"
             ],
             [
              1,
              "#f0f921"
             ]
            ],
            "type": "histogram2d"
           }
          ],
          "histogram2dcontour": [
           {
            "colorbar": {
             "outlinewidth": 0,
             "ticks": ""
            },
            "colorscale": [
             [
              0,
              "#0d0887"
             ],
             [
              0.1111111111111111,
              "#46039f"
             ],
             [
              0.2222222222222222,
              "#7201a8"
             ],
             [
              0.3333333333333333,
              "#9c179e"
             ],
             [
              0.4444444444444444,
              "#bd3786"
             ],
             [
              0.5555555555555556,
              "#d8576b"
             ],
             [
              0.6666666666666666,
              "#ed7953"
             ],
             [
              0.7777777777777778,
              "#fb9f3a"
             ],
             [
              0.8888888888888888,
              "#fdca26"
             ],
             [
              1,
              "#f0f921"
             ]
            ],
            "type": "histogram2dcontour"
           }
          ],
          "mesh3d": [
           {
            "colorbar": {
             "outlinewidth": 0,
             "ticks": ""
            },
            "type": "mesh3d"
           }
          ],
          "parcoords": [
           {
            "line": {
             "colorbar": {
              "outlinewidth": 0,
              "ticks": ""
             }
            },
            "type": "parcoords"
           }
          ],
          "pie": [
           {
            "automargin": true,
            "type": "pie"
           }
          ],
          "scatter": [
           {
            "fillpattern": {
             "fillmode": "overlay",
             "size": 10,
             "solidity": 0.2
            },
            "type": "scatter"
           }
          ],
          "scatter3d": [
           {
            "line": {
             "colorbar": {
              "outlinewidth": 0,
              "ticks": ""
             }
            },
            "marker": {
             "colorbar": {
              "outlinewidth": 0,
              "ticks": ""
             }
            },
            "type": "scatter3d"
           }
          ],
          "scattercarpet": [
           {
            "marker": {
             "colorbar": {
              "outlinewidth": 0,
              "ticks": ""
             }
            },
            "type": "scattercarpet"
           }
          ],
          "scattergeo": [
           {
            "marker": {
             "colorbar": {
              "outlinewidth": 0,
              "ticks": ""
             }
            },
            "type": "scattergeo"
           }
          ],
          "scattergl": [
           {
            "marker": {
             "colorbar": {
              "outlinewidth": 0,
              "ticks": ""
             }
            },
            "type": "scattergl"
           }
          ],
          "scattermapbox": [
           {
            "marker": {
             "colorbar": {
              "outlinewidth": 0,
              "ticks": ""
             }
            },
            "type": "scattermapbox"
           }
          ],
          "scatterpolar": [
           {
            "marker": {
             "colorbar": {
              "outlinewidth": 0,
              "ticks": ""
             }
            },
            "type": "scatterpolar"
           }
          ],
          "scatterpolargl": [
           {
            "marker": {
             "colorbar": {
              "outlinewidth": 0,
              "ticks": ""
             }
            },
            "type": "scatterpolargl"
           }
          ],
          "scatterternary": [
           {
            "marker": {
             "colorbar": {
              "outlinewidth": 0,
              "ticks": ""
             }
            },
            "type": "scatterternary"
           }
          ],
          "surface": [
           {
            "colorbar": {
             "outlinewidth": 0,
             "ticks": ""
            },
            "colorscale": [
             [
              0,
              "#0d0887"
             ],
             [
              0.1111111111111111,
              "#46039f"
             ],
             [
              0.2222222222222222,
              "#7201a8"
             ],
             [
              0.3333333333333333,
              "#9c179e"
             ],
             [
              0.4444444444444444,
              "#bd3786"
             ],
             [
              0.5555555555555556,
              "#d8576b"
             ],
             [
              0.6666666666666666,
              "#ed7953"
             ],
             [
              0.7777777777777778,
              "#fb9f3a"
             ],
             [
              0.8888888888888888,
              "#fdca26"
             ],
             [
              1,
              "#f0f921"
             ]
            ],
            "type": "surface"
           }
          ],
          "table": [
           {
            "cells": {
             "fill": {
              "color": "#EBF0F8"
             },
             "line": {
              "color": "white"
             }
            },
            "header": {
             "fill": {
              "color": "#C8D4E3"
             },
             "line": {
              "color": "white"
             }
            },
            "type": "table"
           }
          ]
         },
         "layout": {
          "annotationdefaults": {
           "arrowcolor": "#2a3f5f",
           "arrowhead": 0,
           "arrowwidth": 1
          },
          "autotypenumbers": "strict",
          "coloraxis": {
           "colorbar": {
            "outlinewidth": 0,
            "ticks": ""
           }
          },
          "colorscale": {
           "diverging": [
            [
             0,
             "#8e0152"
            ],
            [
             0.1,
             "#c51b7d"
            ],
            [
             0.2,
             "#de77ae"
            ],
            [
             0.3,
             "#f1b6da"
            ],
            [
             0.4,
             "#fde0ef"
            ],
            [
             0.5,
             "#f7f7f7"
            ],
            [
             0.6,
             "#e6f5d0"
            ],
            [
             0.7,
             "#b8e186"
            ],
            [
             0.8,
             "#7fbc41"
            ],
            [
             0.9,
             "#4d9221"
            ],
            [
             1,
             "#276419"
            ]
           ],
           "sequential": [
            [
             0,
             "#0d0887"
            ],
            [
             0.1111111111111111,
             "#46039f"
            ],
            [
             0.2222222222222222,
             "#7201a8"
            ],
            [
             0.3333333333333333,
             "#9c179e"
            ],
            [
             0.4444444444444444,
             "#bd3786"
            ],
            [
             0.5555555555555556,
             "#d8576b"
            ],
            [
             0.6666666666666666,
             "#ed7953"
            ],
            [
             0.7777777777777778,
             "#fb9f3a"
            ],
            [
             0.8888888888888888,
             "#fdca26"
            ],
            [
             1,
             "#f0f921"
            ]
           ],
           "sequentialminus": [
            [
             0,
             "#0d0887"
            ],
            [
             0.1111111111111111,
             "#46039f"
            ],
            [
             0.2222222222222222,
             "#7201a8"
            ],
            [
             0.3333333333333333,
             "#9c179e"
            ],
            [
             0.4444444444444444,
             "#bd3786"
            ],
            [
             0.5555555555555556,
             "#d8576b"
            ],
            [
             0.6666666666666666,
             "#ed7953"
            ],
            [
             0.7777777777777778,
             "#fb9f3a"
            ],
            [
             0.8888888888888888,
             "#fdca26"
            ],
            [
             1,
             "#f0f921"
            ]
           ]
          },
          "colorway": [
           "#636efa",
           "#EF553B",
           "#00cc96",
           "#ab63fa",
           "#FFA15A",
           "#19d3f3",
           "#FF6692",
           "#B6E880",
           "#FF97FF",
           "#FECB52"
          ],
          "font": {
           "color": "#2a3f5f"
          },
          "geo": {
           "bgcolor": "white",
           "lakecolor": "white",
           "landcolor": "#E5ECF6",
           "showlakes": true,
           "showland": true,
           "subunitcolor": "white"
          },
          "hoverlabel": {
           "align": "left"
          },
          "hovermode": "closest",
          "mapbox": {
           "style": "light"
          },
          "paper_bgcolor": "white",
          "plot_bgcolor": "#E5ECF6",
          "polar": {
           "angularaxis": {
            "gridcolor": "white",
            "linecolor": "white",
            "ticks": ""
           },
           "bgcolor": "#E5ECF6",
           "radialaxis": {
            "gridcolor": "white",
            "linecolor": "white",
            "ticks": ""
           }
          },
          "scene": {
           "xaxis": {
            "backgroundcolor": "#E5ECF6",
            "gridcolor": "white",
            "gridwidth": 2,
            "linecolor": "white",
            "showbackground": true,
            "ticks": "",
            "zerolinecolor": "white"
           },
           "yaxis": {
            "backgroundcolor": "#E5ECF6",
            "gridcolor": "white",
            "gridwidth": 2,
            "linecolor": "white",
            "showbackground": true,
            "ticks": "",
            "zerolinecolor": "white"
           },
           "zaxis": {
            "backgroundcolor": "#E5ECF6",
            "gridcolor": "white",
            "gridwidth": 2,
            "linecolor": "white",
            "showbackground": true,
            "ticks": "",
            "zerolinecolor": "white"
           }
          },
          "shapedefaults": {
           "line": {
            "color": "#2a3f5f"
           }
          },
          "ternary": {
           "aaxis": {
            "gridcolor": "white",
            "linecolor": "white",
            "ticks": ""
           },
           "baxis": {
            "gridcolor": "white",
            "linecolor": "white",
            "ticks": ""
           },
           "bgcolor": "#E5ECF6",
           "caxis": {
            "gridcolor": "white",
            "linecolor": "white",
            "ticks": ""
           }
          },
          "title": {
           "x": 0.05
          },
          "xaxis": {
           "automargin": true,
           "gridcolor": "white",
           "linecolor": "white",
           "ticks": "",
           "title": {
            "standoff": 15
           },
           "zerolinecolor": "white",
           "zerolinewidth": 2
          },
          "yaxis": {
           "automargin": true,
           "gridcolor": "white",
           "linecolor": "white",
           "ticks": "",
           "title": {
            "standoff": 15
           },
           "zerolinecolor": "white",
           "zerolinewidth": 2
          }
         }
        },
        "title": {
         "text": "Arrest made by Each District in Chicago for Year (2001 - 2022)"
        },
        "xaxis": {
         "anchor": "y",
         "domain": [
          0,
          1
         ],
         "title": {
          "text": "Year"
         }
        },
        "yaxis": {
         "anchor": "x",
         "domain": [
          0,
          1
         ],
         "title": {
          "text": "Arrest"
         }
        }
       }
      },
      "text/html": [
       "<div>                            <div id=\"8aacb577-a101-4f9a-8c80-d1fa4b0cf8c0\" class=\"plotly-graph-div\" style=\"height:525px; width:100%;\"></div>            <script type=\"text/javascript\">                require([\"plotly\"], function(Plotly) {                    window.PLOTLYENV=window.PLOTLYENV || {};                                    if (document.getElementById(\"8aacb577-a101-4f9a-8c80-d1fa4b0cf8c0\")) {                    Plotly.newPlot(                        \"8aacb577-a101-4f9a-8c80-d1fa4b0cf8c0\",                        [{\"hovertemplate\":\"District=1.0<br>Year=%{x}<br>Arrest=%{y}<extra></extra>\",\"legendgroup\":\"1.0\",\"line\":{\"color\":\"#636efa\",\"dash\":\"solid\"},\"marker\":{\"symbol\":\"circle\"},\"mode\":\"lines\",\"name\":\"1.0\",\"orientation\":\"v\",\"showlegend\":true,\"x\":[2001,2002,2003,2004,2005,2006,2007,2008,2009,2010,2011,2012,2013,2014,2015,2016,2017,2018,2019,2020,2021,2022],\"xaxis\":\"x\",\"y\":[3650,4393,4341,4270,4058,4133,4065,4609,3746,4002,3427,3557,3610,3444,4005,4706,4796,4596,4507,2677,3149,1353],\"yaxis\":\"y\",\"type\":\"scatter\"},{\"hovertemplate\":\"District=2.0<br>Year=%{x}<br>Arrest=%{y}<extra></extra>\",\"legendgroup\":\"2.0\",\"line\":{\"color\":\"#EF553B\",\"dash\":\"solid\"},\"marker\":{\"symbol\":\"circle\"},\"mode\":\"lines\",\"name\":\"2.0\",\"orientation\":\"v\",\"showlegend\":true,\"x\":[2001,2002,2003,2004,2005,2006,2007,2008,2009,2010,2011,2012,2013,2014,2015,2016,2017,2018,2019,2020,2021,2022],\"xaxis\":\"x\",\"y\":[13562,11554,11197,10872,10643,10241,9420,9080,8760,8636,8290,7527,6814,6305,6291,6997,6842,7070,6254,5801,6215,2247],\"yaxis\":\"y\",\"type\":\"scatter\"},{\"hovertemplate\":\"District=3.0<br>Year=%{x}<br>Arrest=%{y}<extra></extra>\",\"legendgroup\":\"3.0\",\"line\":{\"color\":\"#00cc96\",\"dash\":\"solid\"},\"marker\":{\"symbol\":\"circle\"},\"mode\":\"lines\",\"name\":\"3.0\",\"orientation\":\"v\",\"showlegend\":true,\"x\":[2001,2002,2003,2004,2005,2006,2007,2008,2009,2010,2011,2012,2013,2014,2015,2016,2017,2018,2019,2020,2021,2022],\"xaxis\":\"x\",\"y\":[13972,13455,13335,13275,12829,12783,12517,12211,11719,11321,10875,10240,9301,7734,7972,7834,8057,7633,7865,7456,7521,2595],\"yaxis\":\"y\",\"type\":\"scatter\"},{\"hovertemplate\":\"District=4.0<br>Year=%{x}<br>Arrest=%{y}<extra></extra>\",\"legendgroup\":\"4.0\",\"line\":{\"color\":\"#ab63fa\",\"dash\":\"solid\"},\"marker\":{\"symbol\":\"circle\"},\"mode\":\"lines\",\"name\":\"4.0\",\"orientation\":\"v\",\"showlegend\":true,\"x\":[2001,2002,2003,2004,2005,2006,2007,2008,2009,2010,2011,2012,2013,2014,2015,2016,2017,2018,2019,2020,2021,2022],\"xaxis\":\"x\",\"y\":[14703,15304,15476,14577,13981,14884,14455,14329,12505,12114,12112,11437,10171,8778,8421,9084,8802,8160,7722,7798,8581,2851],\"yaxis\":\"y\",\"type\":\"scatter\"},{\"hovertemplate\":\"District=5.0<br>Year=%{x}<br>Arrest=%{y}<extra></extra>\",\"legendgroup\":\"5.0\",\"line\":{\"color\":\"#FFA15A\",\"dash\":\"solid\"},\"marker\":{\"symbol\":\"circle\"},\"mode\":\"lines\",\"name\":\"5.0\",\"orientation\":\"v\",\"showlegend\":true,\"x\":[2001,2002,2003,2004,2005,2006,2007,2008,2009,2010,2011,2012,2013,2014,2015,2016,2017,2018,2019,2020,2021,2022],\"xaxis\":\"x\",\"y\":[11189,11423,10719,10816,11268,10850,11379,11175,10088,8835,8644,7918,7180,6287,5975,6500,6322,6276,5980,6264,6191,1953],\"yaxis\":\"y\",\"type\":\"scatter\"},{\"hovertemplate\":\"District=6.0<br>Year=%{x}<br>Arrest=%{y}<extra></extra>\",\"legendgroup\":\"6.0\",\"line\":{\"color\":\"#19d3f3\",\"dash\":\"solid\"},\"marker\":{\"symbol\":\"circle\"},\"mode\":\"lines\",\"name\":\"6.0\",\"orientation\":\"v\",\"showlegend\":true,\"x\":[2001,2002,2003,2004,2005,2006,2007,2008,2009,2010,2011,2012,2013,2014,2015,2016,2017,2018,2019,2020,2021,2022],\"xaxis\":\"x\",\"y\":[14217,14301,14224,14213,14097,13912,13905,14073,12552,11507,10838,9996,9538,8961,8554,9429,9197,8968,9030,8326,8909,3190],\"yaxis\":\"y\",\"type\":\"scatter\"},{\"hovertemplate\":\"District=7.0<br>Year=%{x}<br>Arrest=%{y}<extra></extra>\",\"legendgroup\":\"7.0\",\"line\":{\"color\":\"#FF6692\",\"dash\":\"solid\"},\"marker\":{\"symbol\":\"circle\"},\"mode\":\"lines\",\"name\":\"7.0\",\"orientation\":\"v\",\"showlegend\":true,\"x\":[2001,2002,2003,2004,2005,2006,2007,2008,2009,2010,2011,2012,2013,2014,2015,2016,2017,2018,2019,2020,2021,2022],\"xaxis\":\"x\",\"y\":[15903,15839,15546,15085,14934,15290,15273,15857,13109,12715,11534,10623,9713,8276,7922,8028,7680,8095,7569,7120,7030,2289],\"yaxis\":\"y\",\"type\":\"scatter\"},{\"hovertemplate\":\"District=8.0<br>Year=%{x}<br>Arrest=%{y}<extra></extra>\",\"legendgroup\":\"8.0\",\"line\":{\"color\":\"#B6E880\",\"dash\":\"solid\"},\"marker\":{\"symbol\":\"circle\"},\"mode\":\"lines\",\"name\":\"8.0\",\"orientation\":\"v\",\"showlegend\":true,\"x\":[2001,2002,2003,2004,2005,2006,2007,2008,2009,2010,2011,2012,2013,2014,2015,2016,2017,2018,2019,2020,2021,2022],\"xaxis\":\"x\",\"y\":[15228,16131,15449,15369,15446,15629,15110,16022,14273,13477,12272,11030,9967,9174,8813,9654,9274,9218,8388,7617,8067,2761],\"yaxis\":\"y\",\"type\":\"scatter\"},{\"hovertemplate\":\"District=9.0<br>Year=%{x}<br>Arrest=%{y}<extra></extra>\",\"legendgroup\":\"9.0\",\"line\":{\"color\":\"#FF97FF\",\"dash\":\"solid\"},\"marker\":{\"symbol\":\"circle\"},\"mode\":\"lines\",\"name\":\"9.0\",\"orientation\":\"v\",\"showlegend\":true,\"x\":[2001,2002,2003,2004,2005,2006,2007,2008,2009,2010,2011,2012,2013,2014,2015,2016,2017,2018,2019,2020,2021,2022],\"xaxis\":\"x\",\"y\":[12016,12836,12307,11625,11312,11320,10275,10862,9274,9431,9303,8519,7370,6929,6526,7072,6304,5835,5635,5150,5546,2019],\"yaxis\":\"y\",\"type\":\"scatter\"},{\"hovertemplate\":\"District=10.0<br>Year=%{x}<br>Arrest=%{y}<extra></extra>\",\"legendgroup\":\"10.0\",\"line\":{\"color\":\"#FECB52\",\"dash\":\"solid\"},\"marker\":{\"symbol\":\"circle\"},\"mode\":\"lines\",\"name\":\"10.0\",\"orientation\":\"v\",\"showlegend\":true,\"x\":[2001,2002,2003,2004,2005,2006,2007,2008,2009,2010,2011,2012,2013,2014,2015,2016,2017,2018,2019,2020,2021,2022],\"xaxis\":\"x\",\"y\":[9821,9834,9648,9608,9129,8593,8851,8985,8194,8287,7784,7774,6674,6047,5936,6961,6523,6217,5944,5677,5596,1794],\"yaxis\":\"y\",\"type\":\"scatter\"},{\"hovertemplate\":\"District=11.0<br>Year=%{x}<br>Arrest=%{y}<extra></extra>\",\"legendgroup\":\"11.0\",\"line\":{\"color\":\"#636efa\",\"dash\":\"solid\"},\"marker\":{\"symbol\":\"circle\"},\"mode\":\"lines\",\"name\":\"11.0\",\"orientation\":\"v\",\"showlegend\":true,\"x\":[2001,2002,2003,2004,2005,2006,2007,2008,2009,2010,2011,2012,2013,2014,2015,2016,2017,2018,2019,2020,2021,2022],\"xaxis\":\"x\",\"y\":[11629,12243,11638,11775,11524,11642,11366,11807,10392,9930,9568,9544,8317,7735,7944,9007,8498,8745,7848,7665,7377,2370],\"yaxis\":\"y\",\"type\":\"scatter\"},{\"hovertemplate\":\"District=12.0<br>Year=%{x}<br>Arrest=%{y}<extra></extra>\",\"legendgroup\":\"12.0\",\"line\":{\"color\":\"#EF553B\",\"dash\":\"solid\"},\"marker\":{\"symbol\":\"circle\"},\"mode\":\"lines\",\"name\":\"12.0\",\"orientation\":\"v\",\"showlegend\":true,\"x\":[2001,2002,2003,2004,2005,2006,2007,2008,2009,2010,2011,2012,2013,2014,2015,2016,2017,2018,2019,2020,2021,2022],\"xaxis\":\"x\",\"y\":[11222,11495,11455,11342,10234,10752,10202,10525,9485,9162,8832,8659,7331,6776,6596,7962,7519,6928,6746,5242,6126,2212],\"yaxis\":\"y\",\"type\":\"scatter\"},{\"hovertemplate\":\"District=14.0<br>Year=%{x}<br>Arrest=%{y}<extra></extra>\",\"legendgroup\":\"14.0\",\"line\":{\"color\":\"#00cc96\",\"dash\":\"solid\"},\"marker\":{\"symbol\":\"circle\"},\"mode\":\"lines\",\"name\":\"14.0\",\"orientation\":\"v\",\"showlegend\":true,\"x\":[2001,2002,2003,2004,2005,2006,2007,2008,2009,2010,2011,2012,2013,2014,2015,2016,2017,2018,2019,2020,2021,2022],\"xaxis\":\"x\",\"y\":[12725,12312,10940,10007,7974,7608,8796,9062,8674,8601,7666,6865,6055,5283,4921,5942,5601,5106,4819,3427,3727,1272],\"yaxis\":\"y\",\"type\":\"scatter\"},{\"hovertemplate\":\"District=15.0<br>Year=%{x}<br>Arrest=%{y}<extra></extra>\",\"legendgroup\":\"15.0\",\"line\":{\"color\":\"#ab63fa\",\"dash\":\"solid\"},\"marker\":{\"symbol\":\"circle\"},\"mode\":\"lines\",\"name\":\"15.0\",\"orientation\":\"v\",\"showlegend\":true,\"x\":[2001,2002,2003,2004,2005,2006,2007,2008,2009,2010,2011,2012,2013,2014,2015,2016,2017,2018,2019,2020,2021,2022],\"xaxis\":\"x\",\"y\":[8950,9046,8950,8816,8031,7852,8345,8369,7721,7027,6812,6683,6293,5623,5561,6339,5907,5641,5628,5570,5142,1639],\"yaxis\":\"y\",\"type\":\"scatter\"},{\"hovertemplate\":\"District=16.0<br>Year=%{x}<br>Arrest=%{y}<extra></extra>\",\"legendgroup\":\"16.0\",\"line\":{\"color\":\"#FFA15A\",\"dash\":\"solid\"},\"marker\":{\"symbol\":\"circle\"},\"mode\":\"lines\",\"name\":\"16.0\",\"orientation\":\"v\",\"showlegend\":true,\"x\":[2001,2002,2003,2004,2005,2006,2007,2008,2009,2010,2011,2012,2013,2014,2015,2016,2017,2018,2019,2020,2021,2022],\"xaxis\":\"x\",\"y\":[7429,7910,8096,7080,6398,5766,7191,8032,6876,6009,5650,5608,5011,4446,4641,4949,4519,4629,4247,4176,4468,1427],\"yaxis\":\"y\",\"type\":\"scatter\"},{\"hovertemplate\":\"District=17.0<br>Year=%{x}<br>Arrest=%{y}<extra></extra>\",\"legendgroup\":\"17.0\",\"line\":{\"color\":\"#19d3f3\",\"dash\":\"solid\"},\"marker\":{\"symbol\":\"circle\"},\"mode\":\"lines\",\"name\":\"17.0\",\"orientation\":\"v\",\"showlegend\":true,\"x\":[2001,2002,2003,2004,2005,2006,2007,2008,2009,2010,2011,2012,2013,2014,2015,2016,2017,2018,2019,2020,2021,2022],\"xaxis\":\"x\",\"y\":[7423,7358,7281,6640,6047,5683,6215,6752,6140,6075,5521,5410,4738,3962,4353,4422,4519,4354,3793,3397,3416,1148],\"yaxis\":\"y\",\"type\":\"scatter\"},{\"hovertemplate\":\"District=18.0<br>Year=%{x}<br>Arrest=%{y}<extra></extra>\",\"legendgroup\":\"18.0\",\"line\":{\"color\":\"#FF6692\",\"dash\":\"solid\"},\"marker\":{\"symbol\":\"circle\"},\"mode\":\"lines\",\"name\":\"18.0\",\"orientation\":\"v\",\"showlegend\":true,\"x\":[2001,2002,2003,2004,2005,2006,2007,2008,2009,2010,2011,2012,2013,2014,2015,2016,2017,2018,2019,2020,2021,2022],\"xaxis\":\"x\",\"y\":[7289,7658,7270,6980,6192,6482,6876,7487,5998,5937,5412,5442,4626,4259,4213,5119,5475,6102,5393,3450,4016,1197],\"yaxis\":\"y\",\"type\":\"scatter\"},{\"hovertemplate\":\"District=19.0<br>Year=%{x}<br>Arrest=%{y}<extra></extra>\",\"legendgroup\":\"19.0\",\"line\":{\"color\":\"#B6E880\",\"dash\":\"solid\"},\"marker\":{\"symbol\":\"circle\"},\"mode\":\"lines\",\"name\":\"19.0\",\"orientation\":\"v\",\"showlegend\":true,\"x\":[2001,2002,2003,2004,2005,2006,2007,2008,2009,2010,2011,2012,2013,2014,2015,2016,2017,2018,2019,2020,2021,2022],\"xaxis\":\"x\",\"y\":[10093,10412,9563,9967,8908,9080,8920,10524,8653,8270,7595,7804,6732,5777,5759,6183,6040,6280,5834,4748,5193,1768],\"yaxis\":\"y\",\"type\":\"scatter\"},{\"hovertemplate\":\"District=20.0<br>Year=%{x}<br>Arrest=%{y}<extra></extra>\",\"legendgroup\":\"20.0\",\"line\":{\"color\":\"#FF97FF\",\"dash\":\"solid\"},\"marker\":{\"symbol\":\"circle\"},\"mode\":\"lines\",\"name\":\"20.0\",\"orientation\":\"v\",\"showlegend\":true,\"x\":[2001,2002,2003,2004,2005,2006,2007,2008,2009,2010,2011,2012,2013,2014,2015,2016,2017,2018,2019,2020,2021,2022],\"xaxis\":\"x\",\"y\":[4645,4328,3980,4149,4175,3997,3650,3942,3190,3064,2879,2955,2435,2155,2144,2325,2401,2640,2291,2243,2389,777],\"yaxis\":\"y\",\"type\":\"scatter\"},{\"hovertemplate\":\"District=22.0<br>Year=%{x}<br>Arrest=%{y}<extra></extra>\",\"legendgroup\":\"22.0\",\"line\":{\"color\":\"#FECB52\",\"dash\":\"solid\"},\"marker\":{\"symbol\":\"circle\"},\"mode\":\"lines\",\"name\":\"22.0\",\"orientation\":\"v\",\"showlegend\":true,\"x\":[2001,2002,2003,2004,2005,2006,2007,2008,2009,2010,2011,2012,2013,2014,2015,2016,2017,2018,2019,2020,2021,2022],\"xaxis\":\"x\",\"y\":[8225,8487,8161,8298,8081,8223,8267,8055,7144,6753,6299,5821,5367,4686,4773,4953,4622,4646,4442,4264,4302,1389],\"yaxis\":\"y\",\"type\":\"scatter\"},{\"hovertemplate\":\"District=24.0<br>Year=%{x}<br>Arrest=%{y}<extra></extra>\",\"legendgroup\":\"24.0\",\"line\":{\"color\":\"#636efa\",\"dash\":\"solid\"},\"marker\":{\"symbol\":\"circle\"},\"mode\":\"lines\",\"name\":\"24.0\",\"orientation\":\"v\",\"showlegend\":true,\"x\":[2001,2002,2003,2004,2005,2006,2007,2008,2009,2010,2011,2012,2013,2014,2015,2016,2017,2018,2019,2020,2021,2022],\"xaxis\":\"x\",\"y\":[8165,8378,7535,8099,7640,7448,6828,7394,6233,6210,5556,5143,4704,4247,3813,4246,4741,4424,4492,4000,4254,1579],\"yaxis\":\"y\",\"type\":\"scatter\"},{\"hovertemplate\":\"District=25.0<br>Year=%{x}<br>Arrest=%{y}<extra></extra>\",\"legendgroup\":\"25.0\",\"line\":{\"color\":\"#EF553B\",\"dash\":\"solid\"},\"marker\":{\"symbol\":\"circle\"},\"mode\":\"lines\",\"name\":\"25.0\",\"orientation\":\"v\",\"showlegend\":true,\"x\":[2001,2002,2003,2004,2005,2006,2007,2008,2009,2010,2011,2012,2013,2014,2015,2016,2017,2018,2019,2020,2021,2022],\"xaxis\":\"x\",\"y\":[14605,14513,14405,13074,11654,11111,12480,12439,12295,11757,10740,10109,8913,7638,7423,8133,8030,7433,6977,6475,6547,2121],\"yaxis\":\"y\",\"type\":\"scatter\"},{\"hovertemplate\":\"District=31.0<br>Year=%{x}<br>Arrest=%{y}<extra></extra>\",\"legendgroup\":\"31.0\",\"line\":{\"color\":\"#00cc96\",\"dash\":\"solid\"},\"marker\":{\"symbol\":\"circle\"},\"mode\":\"lines\",\"name\":\"31.0\",\"orientation\":\"v\",\"showlegend\":true,\"x\":[2002,2003,2005,2006,2007,2008,2009,2010,2011,2012,2013,2014,2015,2016,2017,2018,2019,2021],\"xaxis\":\"x\",\"y\":[5,4,1,1,3,6,4,4,3,1,4,2,1,1,1,8,2,1],\"yaxis\":\"y\",\"type\":\"scatter\"},{\"hovertemplate\":\"District=21.0<br>Year=%{x}<br>Arrest=%{y}<extra></extra>\",\"legendgroup\":\"21.0\",\"line\":{\"color\":\"#ab63fa\",\"dash\":\"solid\"},\"marker\":{\"symbol\":\"circle\"},\"mode\":\"lines\",\"name\":\"21.0\",\"orientation\":\"v\",\"showlegend\":true,\"x\":[2003,2004],\"xaxis\":\"x\",\"y\":[1,1],\"yaxis\":\"y\",\"type\":\"scatter\"}],                        {\"template\":{\"data\":{\"histogram2dcontour\":[{\"type\":\"histogram2dcontour\",\"colorbar\":{\"outlinewidth\":0,\"ticks\":\"\"},\"colorscale\":[[0.0,\"#0d0887\"],[0.1111111111111111,\"#46039f\"],[0.2222222222222222,\"#7201a8\"],[0.3333333333333333,\"#9c179e\"],[0.4444444444444444,\"#bd3786\"],[0.5555555555555556,\"#d8576b\"],[0.6666666666666666,\"#ed7953\"],[0.7777777777777778,\"#fb9f3a\"],[0.8888888888888888,\"#fdca26\"],[1.0,\"#f0f921\"]]}],\"choropleth\":[{\"type\":\"choropleth\",\"colorbar\":{\"outlinewidth\":0,\"ticks\":\"\"}}],\"histogram2d\":[{\"type\":\"histogram2d\",\"colorbar\":{\"outlinewidth\":0,\"ticks\":\"\"},\"colorscale\":[[0.0,\"#0d0887\"],[0.1111111111111111,\"#46039f\"],[0.2222222222222222,\"#7201a8\"],[0.3333333333333333,\"#9c179e\"],[0.4444444444444444,\"#bd3786\"],[0.5555555555555556,\"#d8576b\"],[0.6666666666666666,\"#ed7953\"],[0.7777777777777778,\"#fb9f3a\"],[0.8888888888888888,\"#fdca26\"],[1.0,\"#f0f921\"]]}],\"heatmap\":[{\"type\":\"heatmap\",\"colorbar\":{\"outlinewidth\":0,\"ticks\":\"\"},\"colorscale\":[[0.0,\"#0d0887\"],[0.1111111111111111,\"#46039f\"],[0.2222222222222222,\"#7201a8\"],[0.3333333333333333,\"#9c179e\"],[0.4444444444444444,\"#bd3786\"],[0.5555555555555556,\"#d8576b\"],[0.6666666666666666,\"#ed7953\"],[0.7777777777777778,\"#fb9f3a\"],[0.8888888888888888,\"#fdca26\"],[1.0,\"#f0f921\"]]}],\"heatmapgl\":[{\"type\":\"heatmapgl\",\"colorbar\":{\"outlinewidth\":0,\"ticks\":\"\"},\"colorscale\":[[0.0,\"#0d0887\"],[0.1111111111111111,\"#46039f\"],[0.2222222222222222,\"#7201a8\"],[0.3333333333333333,\"#9c179e\"],[0.4444444444444444,\"#bd3786\"],[0.5555555555555556,\"#d8576b\"],[0.6666666666666666,\"#ed7953\"],[0.7777777777777778,\"#fb9f3a\"],[0.8888888888888888,\"#fdca26\"],[1.0,\"#f0f921\"]]}],\"contourcarpet\":[{\"type\":\"contourcarpet\",\"colorbar\":{\"outlinewidth\":0,\"ticks\":\"\"}}],\"contour\":[{\"type\":\"contour\",\"colorbar\":{\"outlinewidth\":0,\"ticks\":\"\"},\"colorscale\":[[0.0,\"#0d0887\"],[0.1111111111111111,\"#46039f\"],[0.2222222222222222,\"#7201a8\"],[0.3333333333333333,\"#9c179e\"],[0.4444444444444444,\"#bd3786\"],[0.5555555555555556,\"#d8576b\"],[0.6666666666666666,\"#ed7953\"],[0.7777777777777778,\"#fb9f3a\"],[0.8888888888888888,\"#fdca26\"],[1.0,\"#f0f921\"]]}],\"surface\":[{\"type\":\"surface\",\"colorbar\":{\"outlinewidth\":0,\"ticks\":\"\"},\"colorscale\":[[0.0,\"#0d0887\"],[0.1111111111111111,\"#46039f\"],[0.2222222222222222,\"#7201a8\"],[0.3333333333333333,\"#9c179e\"],[0.4444444444444444,\"#bd3786\"],[0.5555555555555556,\"#d8576b\"],[0.6666666666666666,\"#ed7953\"],[0.7777777777777778,\"#fb9f3a\"],[0.8888888888888888,\"#fdca26\"],[1.0,\"#f0f921\"]]}],\"mesh3d\":[{\"type\":\"mesh3d\",\"colorbar\":{\"outlinewidth\":0,\"ticks\":\"\"}}],\"scatter\":[{\"fillpattern\":{\"fillmode\":\"overlay\",\"size\":10,\"solidity\":0.2},\"type\":\"scatter\"}],\"parcoords\":[{\"type\":\"parcoords\",\"line\":{\"colorbar\":{\"outlinewidth\":0,\"ticks\":\"\"}}}],\"scatterpolargl\":[{\"type\":\"scatterpolargl\",\"marker\":{\"colorbar\":{\"outlinewidth\":0,\"ticks\":\"\"}}}],\"bar\":[{\"error_x\":{\"color\":\"#2a3f5f\"},\"error_y\":{\"color\":\"#2a3f5f\"},\"marker\":{\"line\":{\"color\":\"#E5ECF6\",\"width\":0.5},\"pattern\":{\"fillmode\":\"overlay\",\"size\":10,\"solidity\":0.2}},\"type\":\"bar\"}],\"scattergeo\":[{\"type\":\"scattergeo\",\"marker\":{\"colorbar\":{\"outlinewidth\":0,\"ticks\":\"\"}}}],\"scatterpolar\":[{\"type\":\"scatterpolar\",\"marker\":{\"colorbar\":{\"outlinewidth\":0,\"ticks\":\"\"}}}],\"histogram\":[{\"marker\":{\"pattern\":{\"fillmode\":\"overlay\",\"size\":10,\"solidity\":0.2}},\"type\":\"histogram\"}],\"scattergl\":[{\"type\":\"scattergl\",\"marker\":{\"colorbar\":{\"outlinewidth\":0,\"ticks\":\"\"}}}],\"scatter3d\":[{\"type\":\"scatter3d\",\"line\":{\"colorbar\":{\"outlinewidth\":0,\"ticks\":\"\"}},\"marker\":{\"colorbar\":{\"outlinewidth\":0,\"ticks\":\"\"}}}],\"scattermapbox\":[{\"type\":\"scattermapbox\",\"marker\":{\"colorbar\":{\"outlinewidth\":0,\"ticks\":\"\"}}}],\"scatterternary\":[{\"type\":\"scatterternary\",\"marker\":{\"colorbar\":{\"outlinewidth\":0,\"ticks\":\"\"}}}],\"scattercarpet\":[{\"type\":\"scattercarpet\",\"marker\":{\"colorbar\":{\"outlinewidth\":0,\"ticks\":\"\"}}}],\"carpet\":[{\"aaxis\":{\"endlinecolor\":\"#2a3f5f\",\"gridcolor\":\"white\",\"linecolor\":\"white\",\"minorgridcolor\":\"white\",\"startlinecolor\":\"#2a3f5f\"},\"baxis\":{\"endlinecolor\":\"#2a3f5f\",\"gridcolor\":\"white\",\"linecolor\":\"white\",\"minorgridcolor\":\"white\",\"startlinecolor\":\"#2a3f5f\"},\"type\":\"carpet\"}],\"table\":[{\"cells\":{\"fill\":{\"color\":\"#EBF0F8\"},\"line\":{\"color\":\"white\"}},\"header\":{\"fill\":{\"color\":\"#C8D4E3\"},\"line\":{\"color\":\"white\"}},\"type\":\"table\"}],\"barpolar\":[{\"marker\":{\"line\":{\"color\":\"#E5ECF6\",\"width\":0.5},\"pattern\":{\"fillmode\":\"overlay\",\"size\":10,\"solidity\":0.2}},\"type\":\"barpolar\"}],\"pie\":[{\"automargin\":true,\"type\":\"pie\"}]},\"layout\":{\"autotypenumbers\":\"strict\",\"colorway\":[\"#636efa\",\"#EF553B\",\"#00cc96\",\"#ab63fa\",\"#FFA15A\",\"#19d3f3\",\"#FF6692\",\"#B6E880\",\"#FF97FF\",\"#FECB52\"],\"font\":{\"color\":\"#2a3f5f\"},\"hovermode\":\"closest\",\"hoverlabel\":{\"align\":\"left\"},\"paper_bgcolor\":\"white\",\"plot_bgcolor\":\"#E5ECF6\",\"polar\":{\"bgcolor\":\"#E5ECF6\",\"angularaxis\":{\"gridcolor\":\"white\",\"linecolor\":\"white\",\"ticks\":\"\"},\"radialaxis\":{\"gridcolor\":\"white\",\"linecolor\":\"white\",\"ticks\":\"\"}},\"ternary\":{\"bgcolor\":\"#E5ECF6\",\"aaxis\":{\"gridcolor\":\"white\",\"linecolor\":\"white\",\"ticks\":\"\"},\"baxis\":{\"gridcolor\":\"white\",\"linecolor\":\"white\",\"ticks\":\"\"},\"caxis\":{\"gridcolor\":\"white\",\"linecolor\":\"white\",\"ticks\":\"\"}},\"coloraxis\":{\"colorbar\":{\"outlinewidth\":0,\"ticks\":\"\"}},\"colorscale\":{\"sequential\":[[0.0,\"#0d0887\"],[0.1111111111111111,\"#46039f\"],[0.2222222222222222,\"#7201a8\"],[0.3333333333333333,\"#9c179e\"],[0.4444444444444444,\"#bd3786\"],[0.5555555555555556,\"#d8576b\"],[0.6666666666666666,\"#ed7953\"],[0.7777777777777778,\"#fb9f3a\"],[0.8888888888888888,\"#fdca26\"],[1.0,\"#f0f921\"]],\"sequentialminus\":[[0.0,\"#0d0887\"],[0.1111111111111111,\"#46039f\"],[0.2222222222222222,\"#7201a8\"],[0.3333333333333333,\"#9c179e\"],[0.4444444444444444,\"#bd3786\"],[0.5555555555555556,\"#d8576b\"],[0.6666666666666666,\"#ed7953\"],[0.7777777777777778,\"#fb9f3a\"],[0.8888888888888888,\"#fdca26\"],[1.0,\"#f0f921\"]],\"diverging\":[[0,\"#8e0152\"],[0.1,\"#c51b7d\"],[0.2,\"#de77ae\"],[0.3,\"#f1b6da\"],[0.4,\"#fde0ef\"],[0.5,\"#f7f7f7\"],[0.6,\"#e6f5d0\"],[0.7,\"#b8e186\"],[0.8,\"#7fbc41\"],[0.9,\"#4d9221\"],[1,\"#276419\"]]},\"xaxis\":{\"gridcolor\":\"white\",\"linecolor\":\"white\",\"ticks\":\"\",\"title\":{\"standoff\":15},\"zerolinecolor\":\"white\",\"automargin\":true,\"zerolinewidth\":2},\"yaxis\":{\"gridcolor\":\"white\",\"linecolor\":\"white\",\"ticks\":\"\",\"title\":{\"standoff\":15},\"zerolinecolor\":\"white\",\"automargin\":true,\"zerolinewidth\":2},\"scene\":{\"xaxis\":{\"backgroundcolor\":\"#E5ECF6\",\"gridcolor\":\"white\",\"linecolor\":\"white\",\"showbackground\":true,\"ticks\":\"\",\"zerolinecolor\":\"white\",\"gridwidth\":2},\"yaxis\":{\"backgroundcolor\":\"#E5ECF6\",\"gridcolor\":\"white\",\"linecolor\":\"white\",\"showbackground\":true,\"ticks\":\"\",\"zerolinecolor\":\"white\",\"gridwidth\":2},\"zaxis\":{\"backgroundcolor\":\"#E5ECF6\",\"gridcolor\":\"white\",\"linecolor\":\"white\",\"showbackground\":true,\"ticks\":\"\",\"zerolinecolor\":\"white\",\"gridwidth\":2}},\"shapedefaults\":{\"line\":{\"color\":\"#2a3f5f\"}},\"annotationdefaults\":{\"arrowcolor\":\"#2a3f5f\",\"arrowhead\":0,\"arrowwidth\":1},\"geo\":{\"bgcolor\":\"white\",\"landcolor\":\"#E5ECF6\",\"subunitcolor\":\"white\",\"showland\":true,\"showlakes\":true,\"lakecolor\":\"white\"},\"title\":{\"x\":0.05},\"mapbox\":{\"style\":\"light\"}}},\"xaxis\":{\"anchor\":\"y\",\"domain\":[0.0,1.0],\"title\":{\"text\":\"Year\"}},\"yaxis\":{\"anchor\":\"x\",\"domain\":[0.0,1.0],\"title\":{\"text\":\"Arrest\"}},\"legend\":{\"title\":{\"text\":\"District\"},\"tracegroupgap\":0},\"title\":{\"text\":\"Arrest made by Each District in Chicago for Year (2001 - 2022)\"}},                        {\"responsive\": true}                    ).then(function(){\n",
       "                            \n",
       "var gd = document.getElementById('8aacb577-a101-4f9a-8c80-d1fa4b0cf8c0');\n",
       "var x = new MutationObserver(function (mutations, observer) {{\n",
       "        var display = window.getComputedStyle(gd).display;\n",
       "        if (!display || display === 'none') {{\n",
       "            console.log([gd, 'removed!']);\n",
       "            Plotly.purge(gd);\n",
       "            observer.disconnect();\n",
       "        }}\n",
       "}});\n",
       "\n",
       "// Listen for the removal of the full notebook cells\n",
       "var notebookContainer = gd.closest('#notebook-container');\n",
       "if (notebookContainer) {{\n",
       "    x.observe(notebookContainer, {childList: true});\n",
       "}}\n",
       "\n",
       "// Listen for the clearing of the current output cell\n",
       "var outputEl = gd.closest('.output');\n",
       "if (outputEl) {{\n",
       "    x.observe(outputEl, {childList: true});\n",
       "}}\n",
       "\n",
       "                        })                };                });            </script>        </div>"
      ]
     },
     "metadata": {},
     "output_type": "display_data"
    }
   ],
   "source": [
    "px.line(data_frame=df_Arrest_True,x='Year',y='Arrest',color='District',title='Arrest made by Each District in Chicago for Year (2001 - 2022)')   "
   ]
  },
  {
   "cell_type": "code",
   "execution_count": null,
   "id": "2833a520",
   "metadata": {
    "scrolled": true
   },
   "outputs": [],
   "source": [
    "# Arrest by district from year 2001-2022\n",
    "df_Arrest_district = Arrest_True.groupby(['District'],as_index=False)['Arrest'].count().nlargest(5,'Arrest')\n",
    "df_Arrest_district"
   ]
  },
  {
   "cell_type": "markdown",
   "id": "59342537",
   "metadata": {},
   "source": [
    "* The most arrest happened in district 8 through the year 2001-2022 with a total arrest of 258,369"
   ]
  },
  {
   "cell_type": "code",
   "execution_count": null,
   "id": "f736dd95",
   "metadata": {},
   "outputs": [],
   "source": [
    "print(len(df_Arrest_district))"
   ]
  },
  {
   "cell_type": "markdown",
   "id": "3735159b",
   "metadata": {},
   "source": [
    "## Find the crimes committed on 001XX N STATE ST but not 0000X W TERMINAL ST. "
   ]
  },
  {
   "cell_type": "code",
   "execution_count": 110,
   "id": "5a64d078",
   "metadata": {},
   "outputs": [
    {
     "data": {
      "text/html": [
       "<div>\n",
       "<style scoped>\n",
       "    .dataframe tbody tr th:only-of-type {\n",
       "        vertical-align: middle;\n",
       "    }\n",
       "\n",
       "    .dataframe tbody tr th {\n",
       "        vertical-align: top;\n",
       "    }\n",
       "\n",
       "    .dataframe thead th {\n",
       "        text-align: right;\n",
       "    }\n",
       "</style>\n",
       "<table border=\"1\" class=\"dataframe\">\n",
       "  <thead>\n",
       "    <tr style=\"text-align: right;\">\n",
       "      <th></th>\n",
       "      <th>Date</th>\n",
       "      <th>Year</th>\n",
       "      <th>Block</th>\n",
       "      <th>Primary Type</th>\n",
       "      <th>Description</th>\n",
       "      <th>Location Description</th>\n",
       "      <th>Arrest</th>\n",
       "      <th>Domestic</th>\n",
       "      <th>District</th>\n",
       "      <th>new_date</th>\n",
       "      <th>Month</th>\n",
       "      <th>Day</th>\n",
       "    </tr>\n",
       "  </thead>\n",
       "  <tbody>\n",
       "    <tr>\n",
       "      <th>0</th>\n",
       "      <td>09/05/2015 01:30:00 PM</td>\n",
       "      <td>2015</td>\n",
       "      <td>043XX S WOOD ST</td>\n",
       "      <td>BATTERY</td>\n",
       "      <td>DOMESTIC BATTERY SIMPLE</td>\n",
       "      <td>RESIDENCE</td>\n",
       "      <td>False</td>\n",
       "      <td>True</td>\n",
       "      <td>9.0</td>\n",
       "      <td>2015-09-05</td>\n",
       "      <td>9</td>\n",
       "      <td>5</td>\n",
       "    </tr>\n",
       "    <tr>\n",
       "      <th>1</th>\n",
       "      <td>09/04/2015 11:30:00 AM</td>\n",
       "      <td>2015</td>\n",
       "      <td>008XX N CENTRAL AVE</td>\n",
       "      <td>THEFT</td>\n",
       "      <td>POCKET-PICKING</td>\n",
       "      <td>CTA BUS</td>\n",
       "      <td>False</td>\n",
       "      <td>False</td>\n",
       "      <td>15.0</td>\n",
       "      <td>2015-09-04</td>\n",
       "      <td>9</td>\n",
       "      <td>4</td>\n",
       "    </tr>\n",
       "    <tr>\n",
       "      <th>2</th>\n",
       "      <td>09/01/2018 12:01:00 AM</td>\n",
       "      <td>2018</td>\n",
       "      <td>082XX S INGLESIDE AVE</td>\n",
       "      <td>THEFT</td>\n",
       "      <td>OVER $500</td>\n",
       "      <td>RESIDENCE</td>\n",
       "      <td>False</td>\n",
       "      <td>True</td>\n",
       "      <td>6.0</td>\n",
       "      <td>2018-09-01</td>\n",
       "      <td>9</td>\n",
       "      <td>1</td>\n",
       "    </tr>\n",
       "    <tr>\n",
       "      <th>3</th>\n",
       "      <td>09/05/2015 12:45:00 PM</td>\n",
       "      <td>2015</td>\n",
       "      <td>035XX W BARRY AVE</td>\n",
       "      <td>NARCOTICS</td>\n",
       "      <td>POSS: HEROIN(BRN/TAN)</td>\n",
       "      <td>SIDEWALK</td>\n",
       "      <td>True</td>\n",
       "      <td>False</td>\n",
       "      <td>14.0</td>\n",
       "      <td>2015-09-05</td>\n",
       "      <td>9</td>\n",
       "      <td>5</td>\n",
       "    </tr>\n",
       "    <tr>\n",
       "      <th>4</th>\n",
       "      <td>09/05/2015 01:00:00 PM</td>\n",
       "      <td>2015</td>\n",
       "      <td>0000X N LARAMIE AVE</td>\n",
       "      <td>ASSAULT</td>\n",
       "      <td>SIMPLE</td>\n",
       "      <td>APARTMENT</td>\n",
       "      <td>False</td>\n",
       "      <td>True</td>\n",
       "      <td>15.0</td>\n",
       "      <td>2015-09-05</td>\n",
       "      <td>9</td>\n",
       "      <td>5</td>\n",
       "    </tr>\n",
       "  </tbody>\n",
       "</table>\n",
       "</div>"
      ],
      "text/plain": [
       "                     Date  Year                  Block Primary Type  \\\n",
       "0  09/05/2015 01:30:00 PM  2015        043XX S WOOD ST      BATTERY   \n",
       "1  09/04/2015 11:30:00 AM  2015    008XX N CENTRAL AVE        THEFT   \n",
       "2  09/01/2018 12:01:00 AM  2018  082XX S INGLESIDE AVE        THEFT   \n",
       "3  09/05/2015 12:45:00 PM  2015      035XX W BARRY AVE    NARCOTICS   \n",
       "4  09/05/2015 01:00:00 PM  2015    0000X N LARAMIE AVE      ASSAULT   \n",
       "\n",
       "               Description Location Description  Arrest  Domestic  District  \\\n",
       "0  DOMESTIC BATTERY SIMPLE            RESIDENCE   False      True       9.0   \n",
       "1           POCKET-PICKING              CTA BUS   False     False      15.0   \n",
       "2                OVER $500            RESIDENCE   False      True       6.0   \n",
       "3    POSS: HEROIN(BRN/TAN)             SIDEWALK    True     False      14.0   \n",
       "4                   SIMPLE            APARTMENT   False      True      15.0   \n",
       "\n",
       "    new_date  Month  Day  \n",
       "0 2015-09-05      9    5  \n",
       "1 2015-09-04      9    4  \n",
       "2 2018-09-01      9    1  \n",
       "3 2015-09-05      9    5  \n",
       "4 2015-09-05      9    5  "
      ]
     },
     "execution_count": 110,
     "metadata": {},
     "output_type": "execute_result"
    }
   ],
   "source": [
    "df_crime_new.head() "
   ]
  },
  {
   "cell_type": "code",
   "execution_count": 130,
   "id": "a34c329e",
   "metadata": {
    "collapsed": true
   },
   "outputs": [
    {
     "data": {
      "text/plain": [
       "{'ASSAULT',\n",
       " 'BATTERY',\n",
       " 'BURGLARY',\n",
       " 'CRIM SEXUAL ASSAULT',\n",
       " 'CRIMINAL DAMAGE',\n",
       " 'CRIMINAL SEXUAL ASSAULT',\n",
       " 'CRIMINAL TRESPASS',\n",
       " 'DECEPTIVE PRACTICE',\n",
       " 'GAMBLING',\n",
       " 'INTERFERENCE WITH PUBLIC OFFICER',\n",
       " 'INTIMIDATION',\n",
       " 'KIDNAPPING',\n",
       " 'LIQUOR LAW VIOLATION',\n",
       " 'MOTOR VEHICLE THEFT',\n",
       " 'NARCOTICS',\n",
       " 'OFFENSE INVOLVING CHILDREN',\n",
       " 'OTHER NARCOTIC VIOLATION',\n",
       " 'OTHER OFFENSE',\n",
       " 'PUBLIC INDECENCY',\n",
       " 'PUBLIC PEACE VIOLATION',\n",
       " 'ROBBERY',\n",
       " 'SEX OFFENSE',\n",
       " 'STALKING',\n",
       " 'THEFT',\n",
       " 'WEAPONS VIOLATION'}"
      ]
     },
     "execution_count": 130,
     "metadata": {},
     "output_type": "execute_result"
    }
   ],
   "source": [
    "list_001XX_N_STATE_ST = set(df_crime_new[df_crime_new['Block'] == '001XX N STATE ST']['Primary Type'])\n",
    "list_001XX_N_STATE_ST"
   ]
  },
  {
   "cell_type": "code",
   "execution_count": 132,
   "id": "e4a589ab",
   "metadata": {
    "collapsed": true
   },
   "outputs": [
    {
     "data": {
      "text/plain": [
       "{'ASSAULT',\n",
       " 'BATTERY',\n",
       " 'BURGLARY',\n",
       " 'CONCEALED CARRY LICENSE VIOLATION',\n",
       " 'CRIM SEXUAL ASSAULT',\n",
       " 'CRIMINAL DAMAGE',\n",
       " 'CRIMINAL SEXUAL ASSAULT',\n",
       " 'CRIMINAL TRESPASS',\n",
       " 'DECEPTIVE PRACTICE',\n",
       " 'INTERFERENCE WITH PUBLIC OFFICER',\n",
       " 'KIDNAPPING',\n",
       " 'MOTOR VEHICLE THEFT',\n",
       " 'NARCOTICS',\n",
       " 'NON-CRIMINAL',\n",
       " 'OFFENSE INVOLVING CHILDREN',\n",
       " 'OTHER OFFENSE',\n",
       " 'PROSTITUTION',\n",
       " 'PUBLIC PEACE VIOLATION',\n",
       " 'ROBBERY',\n",
       " 'SEX OFFENSE',\n",
       " 'STALKING',\n",
       " 'THEFT',\n",
       " 'WEAPONS VIOLATION'}"
      ]
     },
     "execution_count": 132,
     "metadata": {},
     "output_type": "execute_result"
    }
   ],
   "source": [
    "list_0000X_W_TERMINAL_ST = set(df_crime_new[df_crime_new['Block'] == '0000X W TERMINAL ST']['Primary Type'])\n",
    "list_0000X_W_TERMINAL_ST"
   ]
  },
  {
   "cell_type": "code",
   "execution_count": 135,
   "id": "3ef4cb26",
   "metadata": {
    "collapsed": true
   },
   "outputs": [
    {
     "data": {
      "text/plain": [
       "{'GAMBLING',\n",
       " 'INTIMIDATION',\n",
       " 'LIQUOR LAW VIOLATION',\n",
       " 'OTHER NARCOTIC VIOLATION',\n",
       " 'PUBLIC INDECENCY'}"
      ]
     },
     "execution_count": 135,
     "metadata": {},
     "output_type": "execute_result"
    }
   ],
   "source": [
    "list_001XX_N_STATE_ST.difference(list_0000X_W_TERMINAL_ST)"
   ]
  },
  {
   "cell_type": "markdown",
   "id": "1fb70184",
   "metadata": {},
   "source": [
    " Crimes common in block '001XX N STATE ST' that has not occured in'0000X W TERMINAL ST' are GAMBLING,INTIMIDATION,\n",
    "LIQUOR LAW VIOLATION, OTHER NARCOTIC VIOLATION and PUBLIC INDECENCY"
   ]
  },
  {
   "cell_type": "code",
   "execution_count": 141,
   "id": "60577ff7",
   "metadata": {},
   "outputs": [],
   "source": [
    "#Function to check for unique crimes in a comparison betweeen two blocks\n",
    "def differences(block1,block2):\n",
    "    list_block1 = set(df_crime_new[df_crime_new['Block'] == str(block1)]['Primary Type']) #returns all unique values in the column\n",
    "    list_block2 = set(df_crime_new[df_crime_new['Block'] == str(block2)]['Primary Type'])\n",
    "    return list_block1.difference(list_block2)"
   ]
  },
  {
   "cell_type": "code",
   "execution_count": 142,
   "id": "c2bcdabf",
   "metadata": {},
   "outputs": [
    {
     "data": {
      "text/plain": [
       "{'GAMBLING',\n",
       " 'INTIMIDATION',\n",
       " 'LIQUOR LAW VIOLATION',\n",
       " 'OTHER NARCOTIC VIOLATION',\n",
       " 'PUBLIC INDECENCY'}"
      ]
     },
     "execution_count": 142,
     "metadata": {},
     "output_type": "execute_result"
    }
   ],
   "source": [
    "differences('001XX N STATE ST','0000X W TERMINAL ST')"
   ]
  },
  {
   "cell_type": "code",
   "execution_count": 143,
   "id": "4fb7ad53",
   "metadata": {},
   "outputs": [
    {
     "data": {
      "text/plain": [
       "{'GAMBLING',\n",
       " 'KIDNAPPING',\n",
       " 'OFFENSE INVOLVING CHILDREN',\n",
       " 'PROSTITUTION',\n",
       " 'SEX OFFENSE',\n",
       " 'WEAPONS VIOLATION'}"
      ]
     },
     "execution_count": 143,
     "metadata": {},
     "output_type": "execute_result"
    }
   ],
   "source": [
    "differences('0000X N LARAMIE AVE','035XX W BARRY AVE')"
   ]
  },
  {
   "cell_type": "code",
   "execution_count": 161,
   "id": "5a3ac4b1",
   "metadata": {},
   "outputs": [
    {
     "data": {
      "text/plain": [
       "7     694657\n",
       "8     687772\n",
       "5     670700\n",
       "6     660637\n",
       "10    652784\n",
       "9     645635\n",
       "3     628990\n",
       "4     626287\n",
       "1     600473\n",
       "11    587906\n",
       "12    559565\n",
       "2     528961\n",
       "Name: Month, dtype: int64"
      ]
     },
     "execution_count": 161,
     "metadata": {},
     "output_type": "execute_result"
    }
   ],
   "source": [
    "df_crime_new['Month'].value_counts(ascending=False)"
   ]
  },
  {
   "cell_type": "markdown",
   "id": "6ab95543",
   "metadata": {},
   "source": [
    "* This shows that most of the crimes were comitted in july and feburary recorded the least crimes"
   ]
  },
  {
   "cell_type": "code",
   "execution_count": null,
   "id": "471def2a",
   "metadata": {},
   "outputs": [],
   "source": []
  }
 ],
 "metadata": {
  "kernelspec": {
   "display_name": "Python 3 (ipykernel)",
   "language": "python",
   "name": "python3"
  },
  "language_info": {
   "codemirror_mode": {
    "name": "ipython",
    "version": 3
   },
   "file_extension": ".py",
   "mimetype": "text/x-python",
   "name": "python",
   "nbconvert_exporter": "python",
   "pygments_lexer": "ipython3",
   "version": "3.9.7"
  }
 },
 "nbformat": 4,
 "nbformat_minor": 5
}
